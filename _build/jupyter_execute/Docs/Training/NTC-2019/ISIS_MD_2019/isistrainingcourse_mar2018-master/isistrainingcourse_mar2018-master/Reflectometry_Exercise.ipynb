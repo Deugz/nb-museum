{
 "cells": [
  {
   "cell_type": "code",
   "execution_count": 1,
   "metadata": {},
   "outputs": [
    {
     "ename": "ModuleNotFoundError",
     "evalue": "No module named 'falass'",
     "output_type": "error",
     "traceback": [
      "\u001b[1;31m---------------------------------------------------------------------------\u001b[0m",
      "\u001b[1;31mModuleNotFoundError\u001b[0m                       Traceback (most recent call last)",
      "\u001b[1;32m~\\AppData\\Local\\Temp\\ipykernel_49948\\3734863356.py\u001b[0m in \u001b[0;36m<module>\u001b[1;34m\u001b[0m\n\u001b[0;32m      1\u001b[0m \u001b[0mget_ipython\u001b[0m\u001b[1;33m(\u001b[0m\u001b[1;33m)\u001b[0m\u001b[1;33m.\u001b[0m\u001b[0mrun_line_magic\u001b[0m\u001b[1;33m(\u001b[0m\u001b[1;34m'matplotlib'\u001b[0m\u001b[1;33m,\u001b[0m \u001b[1;34m'inline'\u001b[0m\u001b[1;33m)\u001b[0m\u001b[1;33m\u001b[0m\u001b[1;33m\u001b[0m\u001b[0m\n\u001b[0;32m      2\u001b[0m \u001b[1;32mimport\u001b[0m \u001b[0mnumpy\u001b[0m \u001b[1;32mas\u001b[0m \u001b[0mnp\u001b[0m\u001b[1;33m\u001b[0m\u001b[1;33m\u001b[0m\u001b[0m\n\u001b[1;32m----> 3\u001b[1;33m \u001b[1;32mfrom\u001b[0m \u001b[0mfalass\u001b[0m \u001b[1;32mimport\u001b[0m \u001b[0mreadwrite\u001b[0m\u001b[1;33m,\u001b[0m \u001b[0mjob\u001b[0m\u001b[1;33m,\u001b[0m \u001b[0msld\u001b[0m\u001b[1;33m,\u001b[0m \u001b[0mreflect\u001b[0m\u001b[1;33m,\u001b[0m \u001b[0mcompare\u001b[0m\u001b[1;33m\u001b[0m\u001b[1;33m\u001b[0m\u001b[0m\n\u001b[0m",
      "\u001b[1;31mModuleNotFoundError\u001b[0m: No module named 'falass'"
     ]
    }
   ],
   "source": [
    "%matplotlib inline\n",
    "import numpy as np \n",
    "from falass import readwrite, job, sld, reflect, compare"
   ]
  },
  {
   "cell_type": "markdown",
   "metadata": {},
   "source": [
    "# ISIS Neutron Training Course\n",
    "## MD-based analysis of neutron reflectometry\n",
    "\n",
    "#### Andrew R. McCluskey \n",
    "##### University of Bath/Diamond Light Source - arm61@bath.ac.uk\n",
    "\n",
    "2018-03-08\n",
    "\n",
    "In this exercise, you will analyse neutron reflectometry data using a molecular dynamics simulation. The system that was studied is a DSPC monolayer, with five contrasts being measured:\n",
    "\n",
    "- d$_{83}$-DSPC in ACMW\n",
    "- d$_{70}$-DSPC in ACMW\n",
    "- d$_{83}$-DSPC in D$_2$O\n",
    "- d$_{70}$-DSPC in D$_2$O\n",
    "- h-DSPC in D$_2$O\n",
    "\n",
    "The aim of this exercise is to understand how reflectometry experiments can be analysed using molecular dynamics simulation, and putting this into action by identifying the comparing two simulations at different areas per molecule to identify which matches more closely with the experimental data. This will involve using the python package falass.[1] falass is capable of reading in molecular dynamics simulation trajectory (e.g. the atomic positions at a series of simulation timesteps) and returning a reflectometry profile. Full documentation for falass is available at https://readthedocs.org/projects/falass/.\n",
    "\n",
    "The first thing to do with falass is to read in the experimental data, these files are all in the 'data' directory, and can be read in with the \n",
    "\n",
    "```\n",
    "readwrite.Files(datfile='filepath')\n",
    "```\n",
    "\n",
    "command. "
   ]
  },
  {
   "cell_type": "code",
   "execution_count": 24,
   "metadata": {},
   "outputs": [],
   "source": [
    "files_d83acmw = readwrite.Files(datfile='data/d83acmw.dat')\n",
    "files_d70acmw = readwrite.Files(datfile='data/d70acmw.dat')\n",
    "files_d83d2o = readwrite.Files(datfile='data/d83d2o.dat') \n",
    "files_d70d2o = readwrite.Files(datfile='data/d70d2o.dat')\n",
    "files_hd2o = readwrite.Files(datfile='data/hd2o.dat')"
   ]
  },
  {
   "cell_type": "markdown",
   "metadata": {},
   "source": [
    "These .dat files are three column comma separated files consisting of information about q, reflected intensity and an uncertainty in reflected intensity."
   ]
  },
  {
   "cell_type": "code",
   "execution_count": 25,
   "metadata": {},
   "outputs": [
    {
     "name": "stdout",
     "output_type": "stream",
     "text": [
      "0.051793 0.00034985 5.0354e-06\r\n",
      "0.054383 0.00031165 4.2426e-06\r\n",
      "0.057102 0.00028761 3.6729e-06\r\n",
      "0.059957 0.00024688 3.0832e-06\r\n",
      "0.062955 0.00021509 2.6625e-06\r\n",
      "0.066103 0.00019243 2.3042e-06\r\n",
      "0.069408 0.00016831 2.0471e-06\r\n",
      "0.072878 0.00014882 1.8137e-06\r\n",
      "0.076522 0.00013023 1.5953e-06\r\n",
      "0.080348 0.00010985 1.413e-06\r\n",
      "0.084365 9.301e-05 1.233e-06\r\n",
      "0.088584 7.9305e-05 1.0706e-06\r\n",
      "0.093013 6.7076e-05 9.3772e-07\r\n",
      "0.097664 5.8056e-05 8.355e-07\r\n",
      "0.10255 4.7308e-05 7.2453e-07\r\n",
      "0.10767 3.983e-05 6.4247e-07\r\n",
      "0.11306 3.2151e-05 5.6431e-07\r\n",
      "0.11871 2.7395e-05 5.1552e-07\r\n",
      "0.12465 2.1987e-05 4.4466e-07\r\n",
      "0.13088 1.8585e-05 4.0611e-07\r\n",
      "0.13742 1.4942e-05 3.7729e-07\r\n",
      "0.14429 1.1456e-05 3.3753e-07\r\n",
      "0.15151 9.3753e-06 3.1949e-07\r\n",
      "0.15908 6.2979e-06 2.7863e-07\r\n",
      "0.16704 5.5088e-06 1.6133e-06\r\n",
      "0.17539 4.2825e-06 1.2664e-06\r\n",
      "0.18416 3.4385e-06 1.012e-06\r\n",
      "0.19337 2.6153e-06 3.151e-07\r\n",
      "0.20304 2.2895e-06 5.691e-07\r\n",
      "0.21319 1.6778e-06 1.264e-07\r\n",
      "0.22385 1.5736e-06 1.999e-07\r\n",
      "0.23504 1.7357e-06 3.884e-07\r\n",
      "0.24679 1.7277e-06 5.944e-07\r\n",
      "0.25913 1.6036e-06 5.71e-07\r\n",
      "0.27209 1.144e-06 2.156e-07\r\n",
      "0.28569 1.6532e-06 3.599e-07\r\n",
      "0.29998 1.6632e-06 8.9822e-07\r\n",
      "0.31497 1.2679e-06 3.145e-07\r\n",
      "0.33072 1.5244e-06 4.17e-07\r\n",
      "0.34726 1.287e-06 4.5458e-07\r\n",
      "0.36462 1.325e-06 4.73e-07\r\n",
      "0.38285 1.215e-06 3.478e-07\r\n",
      "0.402 9.6157e-07 4.5143e-07\r\n",
      "0.4221 1.2187e-06 2.498e-07\r\n",
      "0.4432 1.1839e-06 1.931e-07\r\n",
      "0.46536 1.5875e-06 4.334e-07\r\n",
      "0.48863 1.2184e-06 1.404e-07\r\n",
      "0.51306 1.6091e-06 6.1262e-07\r\n",
      "0.53871 1.5399e-06 6.9825e-07\r\n",
      "0.56565 1.2561e-06 4.565e-07\r\n",
      "0.58877 1.0005e-06 1.152e-07\r\n"
     ]
    }
   ],
   "source": [
    "cat data/d83acmw.dat"
   ]
  },
  {
   "cell_type": "markdown",
   "metadata": {},
   "source": [
    "The above command simply defined the datfile in the files class, these now must be read into computer memory."
   ]
  },
  {
   "cell_type": "code",
   "execution_count": 26,
   "metadata": {
    "scrolled": false
   },
   "outputs": [
    {
     "name": "stdout",
     "output_type": "stream",
     "text": [
      "Reading DAT file \n",
      "\n",
      "[ 0 % ]\n",
      "[# 10 % ]\n",
      "[## 20 % ]\n",
      "[### 30 % ]\n",
      "[#### 40 % ]\n",
      "[##### 50 % ]\n",
      "[###### 60 % ]\n",
      "[####### 70 % ]\n",
      "[######## 80 % ]\n",
      "[######### 90 % ]\n",
      "[########## 100 % ]\n",
      "Reading DAT file \n",
      "\n",
      "[ 0 % ]\n",
      "[# 10 % ]\n",
      "[## 20 % ]\n",
      "[### 30 % ]\n",
      "[#### 40 % ]\n",
      "[##### 50 % ]\n",
      "[###### 60 % ]\n",
      "[####### 70 % ]\n",
      "[######## 80 % ]\n",
      "[######### 90 % ]\n",
      "[########## 100 % ]\n",
      "Reading DAT file \n",
      "\n",
      "[ 0 % ]\n",
      "[# 10 % ]\n",
      "[## 20 % ]\n",
      "[### 30 % ]\n",
      "[#### 40 % ]\n",
      "[##### 50 % ]\n",
      "[###### 60 % ]\n",
      "[####### 70 % ]\n",
      "[######## 80 % ]\n",
      "[######### 90 % ]\n",
      "[########## 100 % ]\n",
      "Reading DAT file \n",
      "\n",
      "[ 0 % ]\n",
      "[# 10 % ]\n",
      "[## 20 % ]\n",
      "[### 30 % ]\n",
      "[#### 40 % ]\n",
      "[##### 50 % ]\n",
      "[###### 60 % ]\n",
      "[####### 70 % ]\n",
      "[######## 80 % ]\n",
      "[######### 90 % ]\n",
      "[########## 100 % ]\n",
      "Reading DAT file \n",
      "\n",
      "[ 0 % ]\n",
      "[# 10 % ]\n",
      "[## 20 % ]\n",
      "[### 30 % ]\n",
      "[#### 40 % ]\n",
      "[##### 50 % ]\n",
      "[###### 60 % ]\n",
      "[####### 70 % ]\n",
      "[######## 80 % ]\n",
      "[######### 90 % ]\n",
      "[########## 100 % ]\n"
     ]
    }
   ],
   "source": [
    "files_d70acmw.read_dat()\n",
    "files_d83acmw.read_dat()\n",
    "files_d70d2o.read_dat()\n",
    "files_d83d2o.read_dat()\n",
    "files_hd2o.read_dat()"
   ]
  },
  {
   "cell_type": "markdown",
   "metadata": {},
   "source": [
    "We can also plot this data to check that the right files have been read in. "
   ]
  },
  {
   "cell_type": "code",
   "execution_count": 27,
   "metadata": {
    "scrolled": false
   },
   "outputs": [
    {
     "data": {
      "image/png": "[encoded data removed]",
      "text/plain": [
       "<matplotlib.figure.Figure at 0x7f11ba30fa58>"
      ]
     },
     "metadata": {},
     "output_type": "display_data"
    },
    {
     "data": {
      "image/png": "[encoded data removed]",
      "text/plain": [
       "<matplotlib.figure.Figure at 0x7f11b9bb87b8>"
      ]
     },
     "metadata": {},
     "output_type": "display_data"
    },
    {
     "data": {
      "image/png": "[encoded data removed]",
      "text/plain": [
       "<matplotlib.figure.Figure at 0x7f11ba30f128>"
      ]
     },
     "metadata": {},
     "output_type": "display_data"
    },
    {
     "data": {
      "image/png": "[encoded data removed]",
      "text/plain": [
       "<matplotlib.figure.Figure at 0x7f11ba30f3c8>"
      ]
     },
     "metadata": {},
     "output_type": "display_data"
    },
    {
     "data": {
      "image/png": "[encoded data removed]",
      "text/plain": [
       "<matplotlib.figure.Figure at 0x7f11ba2a64a8>"
      ]
     },
     "metadata": {},
     "output_type": "display_data"
    }
   ],
   "source": [
    "d70acmw_data = files_d70acmw.plot_dat(rq4=False)\n",
    "d70acmw_data.show()\n",
    "d83acmw_data = files_d83acmw.plot_dat(rq4=False)\n",
    "d83acmw_data.show()\n",
    "d70d2o_data = files_d70d2o.plot_dat(rq4=False)\n",
    "d70d2o_data.show()\n",
    "d83d2o_data = files_d83d2o.plot_dat(rq4=False)\n",
    "d83d2o_data.show()\n",
    "hd2o_data = files_hd2o.plot_dat(rq4=False)\n",
    "hd2o_data.show()"
   ]
  },
  {
   "cell_type": "code",
   "execution_count": 18,
   "metadata": {
    "collapsed": true
   },
   "outputs": [],
   "source": [
    "files_d13acmw.lgtfile = 'data/d13acmw.lgt'"
   ]
  },
  {
   "cell_type": "code",
   "execution_count": 19,
   "metadata": {},
   "outputs": [
    {
     "name": "stdout",
     "output_type": "stream",
     "text": [
      "Reading LGT file \n",
      "\n",
      "[ 0 % ]\n",
      "[# 10 % ]\n",
      "[## 20 % ]\n",
      "[### 30 % ]\n",
      "[#### 40 % ]\n",
      "[##### 50 % ]\n",
      "[###### 60 % ]\n",
      "[####### 70 % ]\n",
      "[######## 80 % ]\n",
      "[######### 90 % ]\n",
      "[########## 100 % ]\n"
     ]
    }
   ],
   "source": [
    "files_d13acmw.read_lgt()"
   ]
  },
  {
   "cell_type": "markdown",
   "metadata": {},
   "source": [
    "[1] *falass*, Andrew R. McCluskey, (http://people.bath.ac.uk/arm61/falass/)"
   ]
  },
  {
   "cell_type": "code",
   "execution_count": 52,
   "metadata": {},
   "outputs": [
    {
     "name": "stdout",
     "output_type": "stream",
     "text": [
      "1.14606840346\n"
     ]
    }
   ],
   "source": [
    "a = np.tan(10/500)\n",
    "b = np.rad2deg(a)\n",
    "print(b)"
   ]
  },
  {
   "cell_type": "code",
   "execution_count": null,
   "metadata": {
    "collapsed": true
   },
   "outputs": [],
   "source": []
  }
 ],
 "metadata": {
  "kernelspec": {
   "display_name": "Python 3",
   "language": "python",
   "name": "python3"
  },
  "language_info": {
   "codemirror_mode": {
    "name": "ipython",
    "version": 3
   },
   "file_extension": ".py",
   "mimetype": "text/x-python",
   "name": "python",
   "nbconvert_exporter": "python",
   "pygments_lexer": "ipython3",
   "version": "3.9.13"
  }
 },
 "nbformat": 4,
 "nbformat_minor": 2
}