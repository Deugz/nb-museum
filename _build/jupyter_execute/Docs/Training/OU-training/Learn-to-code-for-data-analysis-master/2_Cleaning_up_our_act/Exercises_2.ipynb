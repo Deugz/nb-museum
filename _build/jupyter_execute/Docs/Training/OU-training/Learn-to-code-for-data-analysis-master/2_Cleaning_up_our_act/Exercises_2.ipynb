{
 "cells": [
  {
   "cell_type": "markdown",
   "metadata": {},
   "source": [
    "# Exercise notebook 2: Cleaning up our act\n",
    "This Jupyter notebook, for the second part of The Open University's _Learn to code for Data Analysis_ course, has code examples and coding activities for you. Remember to run the code in this notebook before you start.\n",
    "\n",
    "You'll come across steps in the course directing you to this notebook. Once you've done each exercise, go back to the corresponding step and mark it as complete. "
   ]
  },
  {
   "cell_type": "code",
   "execution_count": 1,
   "metadata": {
    "collapsed": true
   },
   "outputs": [],
   "source": [
    "import warnings\n",
    "warnings.simplefilter('ignore', FutureWarning)\n",
    "\n",
    "from pandas import *"
   ]
  },
  {
   "cell_type": "markdown",
   "metadata": {},
   "source": [
    "## Exercise 1: Dataframes and CSV files\n",
    "\n",
    "To read a CSV file into a dataframe you need to call the pandas function called <code>read_csv()</code>. The simplest usage of this function is with a single argument, a string that holds the name of the CSV file, for example."
   ]
  },
  {
   "cell_type": "code",
   "execution_count": 2,
   "metadata": {
    "collapsed": true
   },
   "outputs": [],
   "source": [
    "df = read_csv('WHO POP TB all.csv')"
   ]
  },
  {
   "cell_type": "markdown",
   "metadata": {},
   "source": [
    "### Dataframe attributes\n",
    "\n",
    "A dataframe attribute is like a variable that can only be accessed in the context of a dataframe. One such attribute is <code>columns</code> which holds a dataframe's column names."
   ]
  },
  {
   "cell_type": "code",
   "execution_count": 3,
   "metadata": {},
   "outputs": [
    {
     "data": {
      "text/plain": [
       "Index(['Country', 'Population (1000s)', 'TB deaths'], dtype='object')"
      ]
     },
     "execution_count": 3,
     "metadata": {},
     "output_type": "execute_result"
    }
   ],
   "source": [
    "df.columns"
   ]
  },
  {
   "cell_type": "markdown",
   "metadata": {},
   "source": [
    "### Dataframe rows\n",
    "A dataframe has a default integer index for its rows, which starts at zero. The `iloc` attribute can be used to obtain the row at the given index."
   ]
  },
  {
   "cell_type": "code",
   "execution_count": 4,
   "metadata": {},
   "outputs": [
    {
     "data": {
      "text/plain": [
       "Country               Afghanistan\n",
       "Population (1000s)          30552\n",
       "TB deaths                 13000.0\n",
       "Name: 0, dtype: object"
      ]
     },
     "execution_count": 4,
     "metadata": {},
     "output_type": "execute_result"
    }
   ],
   "source": [
    "df.iloc[0] # first row, index 0"
   ]
  },
  {
   "cell_type": "code",
   "execution_count": 5,
   "metadata": {},
   "outputs": [
    {
     "data": {
      "text/plain": [
       "Country               Algeria\n",
       "Population (1000s)      39208\n",
       "TB deaths              5100.0\n",
       "Name: 2, dtype: object"
      ]
     },
     "execution_count": 5,
     "metadata": {},
     "output_type": "execute_result"
    }
   ],
   "source": [
    "df.iloc[2] # third row, index 2"
   ]
  },
  {
   "cell_type": "markdown",
   "metadata": {},
   "source": [
    "### The <code>head()</code> method\n",
    "\n",
    "The `head()` method returns a dataframe with the first rows, as many as given in the argument. By default, if the argument is missing, it returns the first five rows."
   ]
  },
  {
   "cell_type": "code",
   "execution_count": 6,
   "metadata": {},
   "outputs": [
    {
     "data": {
      "text/html": [
       "<div>\n",
       "<style scoped>\n",
       "    .dataframe tbody tr th:only-of-type {\n",
       "        vertical-align: middle;\n",
       "    }\n",
       "\n",
       "    .dataframe tbody tr th {\n",
       "        vertical-align: top;\n",
       "    }\n",
       "\n",
       "    .dataframe thead th {\n",
       "        text-align: right;\n",
       "    }\n",
       "</style>\n",
       "<table border=\"1\" class=\"dataframe\">\n",
       "  <thead>\n",
       "    <tr style=\"text-align: right;\">\n",
       "      <th></th>\n",
       "      <th>Country</th>\n",
       "      <th>Population (1000s)</th>\n",
       "      <th>TB deaths</th>\n",
       "    </tr>\n",
       "  </thead>\n",
       "  <tbody>\n",
       "    <tr>\n",
       "      <th>0</th>\n",
       "      <td>Afghanistan</td>\n",
       "      <td>30552</td>\n",
       "      <td>13000.00</td>\n",
       "    </tr>\n",
       "    <tr>\n",
       "      <th>1</th>\n",
       "      <td>Albania</td>\n",
       "      <td>3173</td>\n",
       "      <td>20.00</td>\n",
       "    </tr>\n",
       "    <tr>\n",
       "      <th>2</th>\n",
       "      <td>Algeria</td>\n",
       "      <td>39208</td>\n",
       "      <td>5100.00</td>\n",
       "    </tr>\n",
       "    <tr>\n",
       "      <th>3</th>\n",
       "      <td>Andorra</td>\n",
       "      <td>79</td>\n",
       "      <td>0.26</td>\n",
       "    </tr>\n",
       "    <tr>\n",
       "      <th>4</th>\n",
       "      <td>Angola</td>\n",
       "      <td>21472</td>\n",
       "      <td>6900.00</td>\n",
       "    </tr>\n",
       "  </tbody>\n",
       "</table>\n",
       "</div>"
      ],
      "text/plain": [
       "       Country  Population (1000s)  TB deaths\n",
       "0  Afghanistan               30552   13000.00\n",
       "1      Albania                3173      20.00\n",
       "2      Algeria               39208    5100.00\n",
       "3      Andorra                  79       0.26\n",
       "4       Angola               21472    6900.00"
      ]
     },
     "execution_count": 6,
     "metadata": {},
     "output_type": "execute_result"
    }
   ],
   "source": [
    "df.head() # first five rows"
   ]
  },
  {
   "cell_type": "code",
   "execution_count": 7,
   "metadata": {},
   "outputs": [
    {
     "data": {
      "text/html": [
       "<div>\n",
       "<style scoped>\n",
       "    .dataframe tbody tr th:only-of-type {\n",
       "        vertical-align: middle;\n",
       "    }\n",
       "\n",
       "    .dataframe tbody tr th {\n",
       "        vertical-align: top;\n",
       "    }\n",
       "\n",
       "    .dataframe thead th {\n",
       "        text-align: right;\n",
       "    }\n",
       "</style>\n",
       "<table border=\"1\" class=\"dataframe\">\n",
       "  <thead>\n",
       "    <tr style=\"text-align: right;\">\n",
       "      <th></th>\n",
       "      <th>Country</th>\n",
       "      <th>Population (1000s)</th>\n",
       "      <th>TB deaths</th>\n",
       "    </tr>\n",
       "  </thead>\n",
       "  <tbody>\n",
       "    <tr>\n",
       "      <th>0</th>\n",
       "      <td>Afghanistan</td>\n",
       "      <td>30552</td>\n",
       "      <td>13000.00</td>\n",
       "    </tr>\n",
       "    <tr>\n",
       "      <th>1</th>\n",
       "      <td>Albania</td>\n",
       "      <td>3173</td>\n",
       "      <td>20.00</td>\n",
       "    </tr>\n",
       "    <tr>\n",
       "      <th>2</th>\n",
       "      <td>Algeria</td>\n",
       "      <td>39208</td>\n",
       "      <td>5100.00</td>\n",
       "    </tr>\n",
       "    <tr>\n",
       "      <th>3</th>\n",
       "      <td>Andorra</td>\n",
       "      <td>79</td>\n",
       "      <td>0.26</td>\n",
       "    </tr>\n",
       "    <tr>\n",
       "      <th>4</th>\n",
       "      <td>Angola</td>\n",
       "      <td>21472</td>\n",
       "      <td>6900.00</td>\n",
       "    </tr>\n",
       "    <tr>\n",
       "      <th>5</th>\n",
       "      <td>Antigua and Barbuda</td>\n",
       "      <td>90</td>\n",
       "      <td>1.20</td>\n",
       "    </tr>\n",
       "    <tr>\n",
       "      <th>6</th>\n",
       "      <td>Argentina</td>\n",
       "      <td>41446</td>\n",
       "      <td>570.00</td>\n",
       "    </tr>\n",
       "  </tbody>\n",
       "</table>\n",
       "</div>"
      ],
      "text/plain": [
       "               Country  Population (1000s)  TB deaths\n",
       "0          Afghanistan               30552   13000.00\n",
       "1              Albania                3173      20.00\n",
       "2              Algeria               39208    5100.00\n",
       "3              Andorra                  79       0.26\n",
       "4               Angola               21472    6900.00\n",
       "5  Antigua and Barbuda                  90       1.20\n",
       "6            Argentina               41446     570.00"
      ]
     },
     "execution_count": 7,
     "metadata": {},
     "output_type": "execute_result"
    }
   ],
   "source": [
    "df.head(7) # first seven rows"
   ]
  },
  {
   "cell_type": "markdown",
   "metadata": {},
   "source": [
    "### The <code>tail()</code> method\n",
    "The <code>tail()</code> method is similar to the <code>head()</code> method. If no argument is used, the last five rows of the dataframe are returned, otherwise the number of rows returned is dependent on the argument."
   ]
  },
  {
   "cell_type": "code",
   "execution_count": 8,
   "metadata": {},
   "outputs": [
    {
     "data": {
      "text/html": [
       "<div>\n",
       "<style scoped>\n",
       "    .dataframe tbody tr th:only-of-type {\n",
       "        vertical-align: middle;\n",
       "    }\n",
       "\n",
       "    .dataframe tbody tr th {\n",
       "        vertical-align: top;\n",
       "    }\n",
       "\n",
       "    .dataframe thead th {\n",
       "        text-align: right;\n",
       "    }\n",
       "</style>\n",
       "<table border=\"1\" class=\"dataframe\">\n",
       "  <thead>\n",
       "    <tr style=\"text-align: right;\">\n",
       "      <th></th>\n",
       "      <th>Country</th>\n",
       "      <th>Population (1000s)</th>\n",
       "      <th>TB deaths</th>\n",
       "    </tr>\n",
       "  </thead>\n",
       "  <tbody>\n",
       "    <tr>\n",
       "      <th>189</th>\n",
       "      <td>Venezuela (Bolivarian Republic of)</td>\n",
       "      <td>30405</td>\n",
       "      <td>480.0</td>\n",
       "    </tr>\n",
       "    <tr>\n",
       "      <th>190</th>\n",
       "      <td>Viet Nam</td>\n",
       "      <td>91680</td>\n",
       "      <td>17000.0</td>\n",
       "    </tr>\n",
       "    <tr>\n",
       "      <th>191</th>\n",
       "      <td>Yemen</td>\n",
       "      <td>24407</td>\n",
       "      <td>990.0</td>\n",
       "    </tr>\n",
       "    <tr>\n",
       "      <th>192</th>\n",
       "      <td>Zambia</td>\n",
       "      <td>14539</td>\n",
       "      <td>3600.0</td>\n",
       "    </tr>\n",
       "    <tr>\n",
       "      <th>193</th>\n",
       "      <td>Zimbabwe</td>\n",
       "      <td>14150</td>\n",
       "      <td>5700.0</td>\n",
       "    </tr>\n",
       "  </tbody>\n",
       "</table>\n",
       "</div>"
      ],
      "text/plain": [
       "                                Country  Population (1000s)  TB deaths\n",
       "189  Venezuela (Bolivarian Republic of)               30405      480.0\n",
       "190                            Viet Nam               91680    17000.0\n",
       "191                               Yemen               24407      990.0\n",
       "192                              Zambia               14539     3600.0\n",
       "193                            Zimbabwe               14150     5700.0"
      ]
     },
     "execution_count": 8,
     "metadata": {},
     "output_type": "execute_result"
    }
   ],
   "source": [
    "df.tail() # last five rows"
   ]
  },
  {
   "cell_type": "markdown",
   "metadata": {},
   "source": [
    "### Selecting and displaying columns in a dataframe\n",
    "You found in Week 1 that you can select and display the values for a single dataframe column by puting the name of the column (in quotes) within square brackets immediately after the dataframe's name. However you can also select and display the values for multiple columns too.\n",
    "\n",
    "To get multiple columns you need to use a list. A list in Python is a number of items separated by commas within square brackets, for example `['Country', 'Population (1000s)']`. This list is then put within square brackets immediately after the dataframe's name. The resulting expression represents a new dataframe, just with those columns, and therefore any dataframe method can be applied to it, like for example `head()`:"
   ]
  },
  {
   "cell_type": "code",
   "execution_count": 9,
   "metadata": {},
   "outputs": [
    {
     "data": {
      "text/html": [
       "<div>\n",
       "<style scoped>\n",
       "    .dataframe tbody tr th:only-of-type {\n",
       "        vertical-align: middle;\n",
       "    }\n",
       "\n",
       "    .dataframe tbody tr th {\n",
       "        vertical-align: top;\n",
       "    }\n",
       "\n",
       "    .dataframe thead th {\n",
       "        text-align: right;\n",
       "    }\n",
       "</style>\n",
       "<table border=\"1\" class=\"dataframe\">\n",
       "  <thead>\n",
       "    <tr style=\"text-align: right;\">\n",
       "      <th></th>\n",
       "      <th>Country</th>\n",
       "      <th>Population (1000s)</th>\n",
       "    </tr>\n",
       "  </thead>\n",
       "  <tbody>\n",
       "    <tr>\n",
       "      <th>0</th>\n",
       "      <td>Afghanistan</td>\n",
       "      <td>30552</td>\n",
       "    </tr>\n",
       "    <tr>\n",
       "      <th>1</th>\n",
       "      <td>Albania</td>\n",
       "      <td>3173</td>\n",
       "    </tr>\n",
       "    <tr>\n",
       "      <th>2</th>\n",
       "      <td>Algeria</td>\n",
       "      <td>39208</td>\n",
       "    </tr>\n",
       "    <tr>\n",
       "      <th>3</th>\n",
       "      <td>Andorra</td>\n",
       "      <td>79</td>\n",
       "    </tr>\n",
       "    <tr>\n",
       "      <th>4</th>\n",
       "      <td>Angola</td>\n",
       "      <td>21472</td>\n",
       "    </tr>\n",
       "  </tbody>\n",
       "</table>\n",
       "</div>"
      ],
      "text/plain": [
       "       Country  Population (1000s)\n",
       "0  Afghanistan               30552\n",
       "1      Albania                3173\n",
       "2      Algeria               39208\n",
       "3      Andorra                  79\n",
       "4       Angola               21472"
      ]
     },
     "execution_count": 9,
     "metadata": {},
     "output_type": "execute_result"
    }
   ],
   "source": [
    "df[['Country', 'Population (1000s)']].head()"
   ]
  },
  {
   "cell_type": "markdown",
   "metadata": {},
   "source": [
    "### Applying methods to a dataframe column\n",
    "The `iloc` attribute and the <code>head()</code> and <code>tail()</code> methods discussed above can be used with single columns."
   ]
  },
  {
   "cell_type": "code",
   "execution_count": 10,
   "metadata": {},
   "outputs": [
    {
     "data": {
      "text/plain": [
       "5100.0"
      ]
     },
     "execution_count": 10,
     "metadata": {},
     "output_type": "execute_result"
    }
   ],
   "source": [
    "df['TB deaths'].iloc[2] # third value of deaths column"
   ]
  },
  {
   "cell_type": "code",
   "execution_count": 11,
   "metadata": {},
   "outputs": [
    {
     "data": {
      "text/plain": [
       "189    30405\n",
       "190    91680\n",
       "191    24407\n",
       "192    14539\n",
       "193    14150\n",
       "Name: Population (1000s), dtype: int64"
      ]
     },
     "execution_count": 11,
     "metadata": {},
     "output_type": "execute_result"
    }
   ],
   "source": [
    "df['Population (1000s)'].tail() # last five values of population column      "
   ]
  },
  {
   "cell_type": "markdown",
   "metadata": {},
   "source": [
    "### Tasks\n",
    "\n",
    "In the code cell below, write the code to get and display the 55th row in the dataframe <code>df</code>."
   ]
  },
  {
   "cell_type": "code",
   "execution_count": null,
   "metadata": {
    "collapsed": true
   },
   "outputs": [],
   "source": []
  },
  {
   "cell_type": "markdown",
   "metadata": {},
   "source": [
    "In the code cell below write the code to display the first 10 rows of the dataframe <code>df</code>."
   ]
  },
  {
   "cell_type": "code",
   "execution_count": null,
   "metadata": {
    "collapsed": true
   },
   "outputs": [],
   "source": []
  },
  {
   "cell_type": "markdown",
   "metadata": {},
   "source": [
    "In the code cell below, select and display the first eight rows from the <code>'Country'</code> and <code>'TB deaths'</code> columns."
   ]
  },
  {
   "cell_type": "code",
   "execution_count": null,
   "metadata": {
    "collapsed": true
   },
   "outputs": [],
   "source": []
  },
  {
   "cell_type": "markdown",
   "metadata": {},
   "source": [
    "**Now go back to the course.**"
   ]
  },
  {
   "cell_type": "markdown",
   "metadata": {},
   "source": [
    "## Exercise 2: Comparison operators\n",
    "Python has the following comparison operators:\n",
    "\n",
    "    == (equals)\n",
    "    != (not equal)\n",
    "    < (less than)\n",
    "    > (greater than)\n",
    "    <= (less than or equal to)\n",
    "    >= (greater than or equal to)\n",
    "\n",
    "The following code will get and display all the rows in `df` where it is `True` that the value in the `'Population (1000s)'` column is greater than `80000`."
   ]
  },
  {
   "cell_type": "code",
   "execution_count": 12,
   "metadata": {},
   "outputs": [
    {
     "data": {
      "text/html": [
       "<div>\n",
       "<style scoped>\n",
       "    .dataframe tbody tr th:only-of-type {\n",
       "        vertical-align: middle;\n",
       "    }\n",
       "\n",
       "    .dataframe tbody tr th {\n",
       "        vertical-align: top;\n",
       "    }\n",
       "\n",
       "    .dataframe thead th {\n",
       "        text-align: right;\n",
       "    }\n",
       "</style>\n",
       "<table border=\"1\" class=\"dataframe\">\n",
       "  <thead>\n",
       "    <tr style=\"text-align: right;\">\n",
       "      <th></th>\n",
       "      <th>Country</th>\n",
       "      <th>Population (1000s)</th>\n",
       "      <th>TB deaths</th>\n",
       "    </tr>\n",
       "  </thead>\n",
       "  <tbody>\n",
       "    <tr>\n",
       "      <th>13</th>\n",
       "      <td>Bangladesh</td>\n",
       "      <td>156595</td>\n",
       "      <td>80000.0</td>\n",
       "    </tr>\n",
       "    <tr>\n",
       "      <th>23</th>\n",
       "      <td>Brazil</td>\n",
       "      <td>200362</td>\n",
       "      <td>4400.0</td>\n",
       "    </tr>\n",
       "    <tr>\n",
       "      <th>36</th>\n",
       "      <td>China</td>\n",
       "      <td>1393337</td>\n",
       "      <td>41000.0</td>\n",
       "    </tr>\n",
       "    <tr>\n",
       "      <th>53</th>\n",
       "      <td>Egypt</td>\n",
       "      <td>82056</td>\n",
       "      <td>550.0</td>\n",
       "    </tr>\n",
       "    <tr>\n",
       "      <th>58</th>\n",
       "      <td>Ethiopia</td>\n",
       "      <td>94101</td>\n",
       "      <td>30000.0</td>\n",
       "    </tr>\n",
       "    <tr>\n",
       "      <th>65</th>\n",
       "      <td>Germany</td>\n",
       "      <td>82727</td>\n",
       "      <td>300.0</td>\n",
       "    </tr>\n",
       "    <tr>\n",
       "      <th>77</th>\n",
       "      <td>India</td>\n",
       "      <td>1252140</td>\n",
       "      <td>240000.0</td>\n",
       "    </tr>\n",
       "    <tr>\n",
       "      <th>78</th>\n",
       "      <td>Indonesia</td>\n",
       "      <td>249866</td>\n",
       "      <td>64000.0</td>\n",
       "    </tr>\n",
       "    <tr>\n",
       "      <th>85</th>\n",
       "      <td>Japan</td>\n",
       "      <td>127144</td>\n",
       "      <td>2100.0</td>\n",
       "    </tr>\n",
       "    <tr>\n",
       "      <th>109</th>\n",
       "      <td>Mexico</td>\n",
       "      <td>122332</td>\n",
       "      <td>2200.0</td>\n",
       "    </tr>\n",
       "    <tr>\n",
       "      <th>124</th>\n",
       "      <td>Nigeria</td>\n",
       "      <td>173615</td>\n",
       "      <td>160000.0</td>\n",
       "    </tr>\n",
       "    <tr>\n",
       "      <th>128</th>\n",
       "      <td>Pakistan</td>\n",
       "      <td>182143</td>\n",
       "      <td>49000.0</td>\n",
       "    </tr>\n",
       "    <tr>\n",
       "      <th>134</th>\n",
       "      <td>Philippines</td>\n",
       "      <td>98394</td>\n",
       "      <td>27000.0</td>\n",
       "    </tr>\n",
       "    <tr>\n",
       "      <th>141</th>\n",
       "      <td>Russian Federation</td>\n",
       "      <td>142834</td>\n",
       "      <td>17000.0</td>\n",
       "    </tr>\n",
       "    <tr>\n",
       "      <th>185</th>\n",
       "      <td>United States of America</td>\n",
       "      <td>320051</td>\n",
       "      <td>490.0</td>\n",
       "    </tr>\n",
       "    <tr>\n",
       "      <th>190</th>\n",
       "      <td>Viet Nam</td>\n",
       "      <td>91680</td>\n",
       "      <td>17000.0</td>\n",
       "    </tr>\n",
       "  </tbody>\n",
       "</table>\n",
       "</div>"
      ],
      "text/plain": [
       "                      Country  Population (1000s)  TB deaths\n",
       "13                 Bangladesh              156595    80000.0\n",
       "23                     Brazil              200362     4400.0\n",
       "36                      China             1393337    41000.0\n",
       "53                      Egypt               82056      550.0\n",
       "58                   Ethiopia               94101    30000.0\n",
       "65                    Germany               82727      300.0\n",
       "77                      India             1252140   240000.0\n",
       "78                  Indonesia              249866    64000.0\n",
       "85                      Japan              127144     2100.0\n",
       "109                    Mexico              122332     2200.0\n",
       "124                   Nigeria              173615   160000.0\n",
       "128                  Pakistan              182143    49000.0\n",
       "134               Philippines               98394    27000.0\n",
       "141        Russian Federation              142834    17000.0\n",
       "185  United States of America              320051      490.0\n",
       "190                  Viet Nam               91680    17000.0"
      ]
     },
     "execution_count": 12,
     "metadata": {},
     "output_type": "execute_result"
    }
   ],
   "source": [
    "df[df['Population (1000s)'] > 80000]         "
   ]
  },
  {
   "cell_type": "markdown",
   "metadata": {},
   "source": [
    "### Task\n",
    "In the code cell below write code to find all the rows in <code>df</code> where TB deaths exceed 10000."
   ]
  },
  {
   "cell_type": "code",
   "execution_count": null,
   "metadata": {
    "collapsed": true
   },
   "outputs": [],
   "source": [
    "       "
   ]
  },
  {
   "cell_type": "markdown",
   "metadata": {},
   "source": [
    "**Now go back to the course.**"
   ]
  },
  {
   "cell_type": "markdown",
   "metadata": {},
   "source": [
    "## Exercise 3: Bitwise operators\n",
    "\n",
    "Pandas has two operators to make more complicated queries. Use the operator `&` (means 'and') to select rows where two conditions are both true. Use the operator `|` (means 'or') to select rows where at least one condition is true. Don't forget to put parentheses around _each_ comparison. For example, the following expression selects only countries with a population over 80 million inhabitants **and** with more that 10 thousand deaths."
   ]
  },
  {
   "cell_type": "code",
   "execution_count": 13,
   "metadata": {},
   "outputs": [
    {
     "data": {
      "text/html": [
       "<div>\n",
       "<style scoped>\n",
       "    .dataframe tbody tr th:only-of-type {\n",
       "        vertical-align: middle;\n",
       "    }\n",
       "\n",
       "    .dataframe tbody tr th {\n",
       "        vertical-align: top;\n",
       "    }\n",
       "\n",
       "    .dataframe thead th {\n",
       "        text-align: right;\n",
       "    }\n",
       "</style>\n",
       "<table border=\"1\" class=\"dataframe\">\n",
       "  <thead>\n",
       "    <tr style=\"text-align: right;\">\n",
       "      <th></th>\n",
       "      <th>Country</th>\n",
       "      <th>Population (1000s)</th>\n",
       "      <th>TB deaths</th>\n",
       "    </tr>\n",
       "  </thead>\n",
       "  <tbody>\n",
       "    <tr>\n",
       "      <th>13</th>\n",
       "      <td>Bangladesh</td>\n",
       "      <td>156595</td>\n",
       "      <td>80000.0</td>\n",
       "    </tr>\n",
       "    <tr>\n",
       "      <th>36</th>\n",
       "      <td>China</td>\n",
       "      <td>1393337</td>\n",
       "      <td>41000.0</td>\n",
       "    </tr>\n",
       "    <tr>\n",
       "      <th>58</th>\n",
       "      <td>Ethiopia</td>\n",
       "      <td>94101</td>\n",
       "      <td>30000.0</td>\n",
       "    </tr>\n",
       "    <tr>\n",
       "      <th>77</th>\n",
       "      <td>India</td>\n",
       "      <td>1252140</td>\n",
       "      <td>240000.0</td>\n",
       "    </tr>\n",
       "    <tr>\n",
       "      <th>78</th>\n",
       "      <td>Indonesia</td>\n",
       "      <td>249866</td>\n",
       "      <td>64000.0</td>\n",
       "    </tr>\n",
       "    <tr>\n",
       "      <th>124</th>\n",
       "      <td>Nigeria</td>\n",
       "      <td>173615</td>\n",
       "      <td>160000.0</td>\n",
       "    </tr>\n",
       "    <tr>\n",
       "      <th>128</th>\n",
       "      <td>Pakistan</td>\n",
       "      <td>182143</td>\n",
       "      <td>49000.0</td>\n",
       "    </tr>\n",
       "    <tr>\n",
       "      <th>134</th>\n",
       "      <td>Philippines</td>\n",
       "      <td>98394</td>\n",
       "      <td>27000.0</td>\n",
       "    </tr>\n",
       "    <tr>\n",
       "      <th>141</th>\n",
       "      <td>Russian Federation</td>\n",
       "      <td>142834</td>\n",
       "      <td>17000.0</td>\n",
       "    </tr>\n",
       "    <tr>\n",
       "      <th>190</th>\n",
       "      <td>Viet Nam</td>\n",
       "      <td>91680</td>\n",
       "      <td>17000.0</td>\n",
       "    </tr>\n",
       "  </tbody>\n",
       "</table>\n",
       "</div>"
      ],
      "text/plain": [
       "                Country  Population (1000s)  TB deaths\n",
       "13           Bangladesh              156595    80000.0\n",
       "36                China             1393337    41000.0\n",
       "58             Ethiopia               94101    30000.0\n",
       "77                India             1252140   240000.0\n",
       "78            Indonesia              249866    64000.0\n",
       "124             Nigeria              173615   160000.0\n",
       "128            Pakistan              182143    49000.0\n",
       "134         Philippines               98394    27000.0\n",
       "141  Russian Federation              142834    17000.0\n",
       "190            Viet Nam               91680    17000.0"
      ]
     },
     "execution_count": 13,
     "metadata": {},
     "output_type": "execute_result"
    }
   ],
   "source": [
    "df[(df['Population (1000s)'] > 80000) & (df['TB deaths'] > 10000)]"
   ]
  },
  {
   "cell_type": "markdown",
   "metadata": {},
   "source": [
    "If the same columns will be used repeatedly in the program, the code becomes more readable if written as follows:"
   ]
  },
  {
   "cell_type": "code",
   "execution_count": 14,
   "metadata": {},
   "outputs": [
    {
     "data": {
      "text/html": [
       "<div>\n",
       "<style scoped>\n",
       "    .dataframe tbody tr th:only-of-type {\n",
       "        vertical-align: middle;\n",
       "    }\n",
       "\n",
       "    .dataframe tbody tr th {\n",
       "        vertical-align: top;\n",
       "    }\n",
       "\n",
       "    .dataframe thead th {\n",
       "        text-align: right;\n",
       "    }\n",
       "</style>\n",
       "<table border=\"1\" class=\"dataframe\">\n",
       "  <thead>\n",
       "    <tr style=\"text-align: right;\">\n",
       "      <th></th>\n",
       "      <th>Country</th>\n",
       "      <th>Population (1000s)</th>\n",
       "      <th>TB deaths</th>\n",
       "    </tr>\n",
       "  </thead>\n",
       "  <tbody>\n",
       "    <tr>\n",
       "      <th>13</th>\n",
       "      <td>Bangladesh</td>\n",
       "      <td>156595</td>\n",
       "      <td>80000.0</td>\n",
       "    </tr>\n",
       "    <tr>\n",
       "      <th>36</th>\n",
       "      <td>China</td>\n",
       "      <td>1393337</td>\n",
       "      <td>41000.0</td>\n",
       "    </tr>\n",
       "    <tr>\n",
       "      <th>58</th>\n",
       "      <td>Ethiopia</td>\n",
       "      <td>94101</td>\n",
       "      <td>30000.0</td>\n",
       "    </tr>\n",
       "    <tr>\n",
       "      <th>77</th>\n",
       "      <td>India</td>\n",
       "      <td>1252140</td>\n",
       "      <td>240000.0</td>\n",
       "    </tr>\n",
       "    <tr>\n",
       "      <th>78</th>\n",
       "      <td>Indonesia</td>\n",
       "      <td>249866</td>\n",
       "      <td>64000.0</td>\n",
       "    </tr>\n",
       "    <tr>\n",
       "      <th>124</th>\n",
       "      <td>Nigeria</td>\n",
       "      <td>173615</td>\n",
       "      <td>160000.0</td>\n",
       "    </tr>\n",
       "    <tr>\n",
       "      <th>128</th>\n",
       "      <td>Pakistan</td>\n",
       "      <td>182143</td>\n",
       "      <td>49000.0</td>\n",
       "    </tr>\n",
       "    <tr>\n",
       "      <th>134</th>\n",
       "      <td>Philippines</td>\n",
       "      <td>98394</td>\n",
       "      <td>27000.0</td>\n",
       "    </tr>\n",
       "    <tr>\n",
       "      <th>141</th>\n",
       "      <td>Russian Federation</td>\n",
       "      <td>142834</td>\n",
       "      <td>17000.0</td>\n",
       "    </tr>\n",
       "    <tr>\n",
       "      <th>190</th>\n",
       "      <td>Viet Nam</td>\n",
       "      <td>91680</td>\n",
       "      <td>17000.0</td>\n",
       "    </tr>\n",
       "  </tbody>\n",
       "</table>\n",
       "</div>"
      ],
      "text/plain": [
       "                Country  Population (1000s)  TB deaths\n",
       "13           Bangladesh              156595    80000.0\n",
       "36                China             1393337    41000.0\n",
       "58             Ethiopia               94101    30000.0\n",
       "77                India             1252140   240000.0\n",
       "78            Indonesia              249866    64000.0\n",
       "124             Nigeria              173615   160000.0\n",
       "128            Pakistan              182143    49000.0\n",
       "134         Philippines               98394    27000.0\n",
       "141  Russian Federation              142834    17000.0\n",
       "190            Viet Nam               91680    17000.0"
      ]
     },
     "execution_count": 14,
     "metadata": {},
     "output_type": "execute_result"
    }
   ],
   "source": [
    "population = df['Population (1000s)']\n",
    "deaths = df['TB deaths']\n",
    "df[(population > 80000) & (deaths > 10000)]  "
   ]
  },
  {
   "cell_type": "markdown",
   "metadata": {},
   "source": [
    "### Task\n",
    "In the code cell below find  all the countries where the Population (1000s) is **less than or equal to** 50000 **or** TB deaths are **greater than or equal to** 20000."
   ]
  },
  {
   "cell_type": "code",
   "execution_count": null,
   "metadata": {
    "collapsed": true
   },
   "outputs": [],
   "source": []
  },
  {
   "cell_type": "markdown",
   "metadata": {},
   "source": [
    "**Now go back to the course.**"
   ]
  },
  {
   "cell_type": "markdown",
   "metadata": {},
   "source": [
    "## Exercise 4: Display rows from dataframe\n",
    "\n",
    "You have downloaded the file London_2014.csv from our website, it can now be read into a dataframe."
   ]
  },
  {
   "cell_type": "code",
   "execution_count": 15,
   "metadata": {},
   "outputs": [
    {
     "data": {
      "text/html": [
       "<div>\n",
       "<style scoped>\n",
       "    .dataframe tbody tr th:only-of-type {\n",
       "        vertical-align: middle;\n",
       "    }\n",
       "\n",
       "    .dataframe tbody tr th {\n",
       "        vertical-align: top;\n",
       "    }\n",
       "\n",
       "    .dataframe thead th {\n",
       "        text-align: right;\n",
       "    }\n",
       "</style>\n",
       "<table border=\"1\" class=\"dataframe\">\n",
       "  <thead>\n",
       "    <tr style=\"text-align: right;\">\n",
       "      <th></th>\n",
       "      <th>GMT</th>\n",
       "      <th>Max TemperatureC</th>\n",
       "      <th>Mean TemperatureC</th>\n",
       "      <th>Min TemperatureC</th>\n",
       "      <th>Dew PointC</th>\n",
       "      <th>MeanDew PointC</th>\n",
       "      <th>Min DewpointC</th>\n",
       "      <th>Max Humidity</th>\n",
       "      <th>Mean Humidity</th>\n",
       "      <th>Min Humidity</th>\n",
       "      <th>...</th>\n",
       "      <th>Max VisibilityKm</th>\n",
       "      <th>Mean VisibilityKm</th>\n",
       "      <th>Min VisibilitykM</th>\n",
       "      <th>Max Wind SpeedKm/h</th>\n",
       "      <th>Mean Wind SpeedKm/h</th>\n",
       "      <th>Max Gust SpeedKm/h</th>\n",
       "      <th>Precipitationmm</th>\n",
       "      <th>CloudCover</th>\n",
       "      <th>Events</th>\n",
       "      <th>WindDirDegrees&lt;br /&gt;</th>\n",
       "    </tr>\n",
       "  </thead>\n",
       "  <tbody>\n",
       "    <tr>\n",
       "      <th>0</th>\n",
       "      <td>2014-1-1</td>\n",
       "      <td>11</td>\n",
       "      <td>8</td>\n",
       "      <td>6</td>\n",
       "      <td>9</td>\n",
       "      <td>7</td>\n",
       "      <td>4</td>\n",
       "      <td>94</td>\n",
       "      <td>86</td>\n",
       "      <td>73</td>\n",
       "      <td>...</td>\n",
       "      <td>31</td>\n",
       "      <td>11</td>\n",
       "      <td>2</td>\n",
       "      <td>40</td>\n",
       "      <td>26</td>\n",
       "      <td>66.0</td>\n",
       "      <td>9.91</td>\n",
       "      <td>4.0</td>\n",
       "      <td>Rain</td>\n",
       "      <td>186&lt;br /&gt;</td>\n",
       "    </tr>\n",
       "    <tr>\n",
       "      <th>1</th>\n",
       "      <td>2014-1-2</td>\n",
       "      <td>11</td>\n",
       "      <td>9</td>\n",
       "      <td>6</td>\n",
       "      <td>9</td>\n",
       "      <td>6</td>\n",
       "      <td>4</td>\n",
       "      <td>94</td>\n",
       "      <td>81</td>\n",
       "      <td>60</td>\n",
       "      <td>...</td>\n",
       "      <td>31</td>\n",
       "      <td>15</td>\n",
       "      <td>5</td>\n",
       "      <td>32</td>\n",
       "      <td>21</td>\n",
       "      <td>50.0</td>\n",
       "      <td>1.02</td>\n",
       "      <td>2.0</td>\n",
       "      <td>Rain</td>\n",
       "      <td>214&lt;br /&gt;</td>\n",
       "    </tr>\n",
       "    <tr>\n",
       "      <th>2</th>\n",
       "      <td>2014-1-3</td>\n",
       "      <td>11</td>\n",
       "      <td>8</td>\n",
       "      <td>6</td>\n",
       "      <td>9</td>\n",
       "      <td>5</td>\n",
       "      <td>2</td>\n",
       "      <td>94</td>\n",
       "      <td>76</td>\n",
       "      <td>54</td>\n",
       "      <td>...</td>\n",
       "      <td>31</td>\n",
       "      <td>12</td>\n",
       "      <td>0</td>\n",
       "      <td>50</td>\n",
       "      <td>29</td>\n",
       "      <td>69.0</td>\n",
       "      <td>7.11</td>\n",
       "      <td>2.0</td>\n",
       "      <td>Rain-Thunderstorm</td>\n",
       "      <td>219&lt;br /&gt;</td>\n",
       "    </tr>\n",
       "    <tr>\n",
       "      <th>3</th>\n",
       "      <td>2014-1-4</td>\n",
       "      <td>9</td>\n",
       "      <td>6</td>\n",
       "      <td>3</td>\n",
       "      <td>8</td>\n",
       "      <td>6</td>\n",
       "      <td>2</td>\n",
       "      <td>93</td>\n",
       "      <td>85</td>\n",
       "      <td>65</td>\n",
       "      <td>...</td>\n",
       "      <td>31</td>\n",
       "      <td>12</td>\n",
       "      <td>5</td>\n",
       "      <td>35</td>\n",
       "      <td>21</td>\n",
       "      <td>39.0</td>\n",
       "      <td>9.91</td>\n",
       "      <td>4.0</td>\n",
       "      <td>Rain</td>\n",
       "      <td>211&lt;br /&gt;</td>\n",
       "    </tr>\n",
       "    <tr>\n",
       "      <th>4</th>\n",
       "      <td>2014-1-5</td>\n",
       "      <td>12</td>\n",
       "      <td>7</td>\n",
       "      <td>1</td>\n",
       "      <td>11</td>\n",
       "      <td>4</td>\n",
       "      <td>-1</td>\n",
       "      <td>100</td>\n",
       "      <td>88</td>\n",
       "      <td>77</td>\n",
       "      <td>...</td>\n",
       "      <td>31</td>\n",
       "      <td>14</td>\n",
       "      <td>5</td>\n",
       "      <td>35</td>\n",
       "      <td>16</td>\n",
       "      <td>NaN</td>\n",
       "      <td>0.25</td>\n",
       "      <td>5.0</td>\n",
       "      <td>Rain</td>\n",
       "      <td>199&lt;br /&gt;</td>\n",
       "    </tr>\n",
       "  </tbody>\n",
       "</table>\n",
       "<p>5 rows × 23 columns</p>\n",
       "</div>"
      ],
      "text/plain": [
       "        GMT  Max TemperatureC  Mean TemperatureC  Min TemperatureC  \\\n",
       "0  2014-1-1                11                  8                 6   \n",
       "1  2014-1-2                11                  9                 6   \n",
       "2  2014-1-3                11                  8                 6   \n",
       "3  2014-1-4                 9                  6                 3   \n",
       "4  2014-1-5                12                  7                 1   \n",
       "\n",
       "   Dew PointC  MeanDew PointC  Min DewpointC  Max Humidity   Mean Humidity  \\\n",
       "0           9               7              4            94              86   \n",
       "1           9               6              4            94              81   \n",
       "2           9               5              2            94              76   \n",
       "3           8               6              2            93              85   \n",
       "4          11               4             -1           100              88   \n",
       "\n",
       "    Min Humidity  ...   Max VisibilityKm   Mean VisibilityKm  \\\n",
       "0             73  ...                 31                  11   \n",
       "1             60  ...                 31                  15   \n",
       "2             54  ...                 31                  12   \n",
       "3             65  ...                 31                  12   \n",
       "4             77  ...                 31                  14   \n",
       "\n",
       "    Min VisibilitykM   Max Wind SpeedKm/h   Mean Wind SpeedKm/h  \\\n",
       "0                  2                   40                    26   \n",
       "1                  5                   32                    21   \n",
       "2                  0                   50                    29   \n",
       "3                  5                   35                    21   \n",
       "4                  5                   35                    16   \n",
       "\n",
       "    Max Gust SpeedKm/h  Precipitationmm   CloudCover             Events  \\\n",
       "0                 66.0             9.91          4.0               Rain   \n",
       "1                 50.0             1.02          2.0               Rain   \n",
       "2                 69.0             7.11          2.0  Rain-Thunderstorm   \n",
       "3                 39.0             9.91          4.0               Rain   \n",
       "4                  NaN             0.25          5.0               Rain   \n",
       "\n",
       "   WindDirDegrees<br />  \n",
       "0             186<br />  \n",
       "1             214<br />  \n",
       "2             219<br />  \n",
       "3             211<br />  \n",
       "4             199<br />  \n",
       "\n",
       "[5 rows x 23 columns]"
      ]
     },
     "execution_count": 15,
     "metadata": {},
     "output_type": "execute_result"
    }
   ],
   "source": [
    "london = read_csv('London_2014.csv')\n",
    "london.head()"
   ]
  },
  {
   "cell_type": "markdown",
   "metadata": {},
   "source": [
    "### Removing initial spaces\n",
    "\n",
    "There are too many columns for the dataframe to fit horizontally in this notebook, but they can be displayed separately."
   ]
  },
  {
   "cell_type": "code",
   "execution_count": 16,
   "metadata": {},
   "outputs": [
    {
     "data": {
      "text/plain": [
       "Index(['GMT', 'Max TemperatureC', 'Mean TemperatureC', 'Min TemperatureC',\n",
       "       'Dew PointC', 'MeanDew PointC', 'Min DewpointC', 'Max Humidity',\n",
       "       ' Mean Humidity', ' Min Humidity', ' Max Sea Level PressurehPa',\n",
       "       ' Mean Sea Level PressurehPa', ' Min Sea Level PressurehPa',\n",
       "       ' Max VisibilityKm', ' Mean VisibilityKm', ' Min VisibilitykM',\n",
       "       ' Max Wind SpeedKm/h', ' Mean Wind SpeedKm/h', ' Max Gust SpeedKm/h',\n",
       "       'Precipitationmm', ' CloudCover', ' Events', 'WindDirDegrees<br />'],\n",
       "      dtype='object')"
      ]
     },
     "execution_count": 16,
     "metadata": {},
     "output_type": "execute_result"
    }
   ],
   "source": [
    "london.columns"
   ]
  },
  {
   "cell_type": "markdown",
   "metadata": {},
   "source": [
    "This shows that <code>' Max Wind SpeedKm/h'</code> is prefixed by a space, as are other columm names such as <code>' Mean Humidity'</code> and <code>' Max Sea Level PressurehPa'</code>.\n",
    "\n",
    "The  <code>read_csv()</code> function has interpreted spaces after commas as being part of the next value. This can be rectified  easily by adding another argument to the <code>read_csv()</code> function to skip the initial spaces after a comma."
   ]
  },
  {
   "cell_type": "code",
   "execution_count": 17,
   "metadata": {
    "collapsed": true,
    "scrolled": true
   },
   "outputs": [],
   "source": [
    "london = read_csv('London_2014.csv', skipinitialspace=True)"
   ]
  },
  {
   "cell_type": "markdown",
   "metadata": {},
   "source": [
    "### Removing extra characters\n",
    "\n",
    "Another problem shown above is that the final column is called <code>'WindDirDegrees&lt; br /&gt;'</code>.\n",
    "\n",
    "When the dataset was exported from the Weather Underground web site, HTML line breaks were automatically added to each line in the file which <code>read_csv()</code> has interpreted as part of the column name and its values. This can be seen more clearly by looking at more values in the final column:"
   ]
  },
  {
   "cell_type": "code",
   "execution_count": 18,
   "metadata": {},
   "outputs": [
    {
     "data": {
      "text/plain": [
       "0    186<br />\n",
       "1    214<br />\n",
       "2    219<br />\n",
       "3    211<br />\n",
       "4    199<br />\n",
       "Name: WindDirDegrees<br />, dtype: object"
      ]
     },
     "execution_count": 18,
     "metadata": {},
     "output_type": "execute_result"
    }
   ],
   "source": [
    "london['WindDirDegrees<br />'].head()"
   ]
  },
  {
   "cell_type": "markdown",
   "metadata": {},
   "source": [
    "<code>'WindDirDegrees&lt; br /&gt;'</code> can be changed to <code>'WindDirDegrees'</code> with the <code>rename()</code> method as follows:"
   ]
  },
  {
   "cell_type": "code",
   "execution_count": 19,
   "metadata": {
    "collapsed": true
   },
   "outputs": [],
   "source": [
    "london = london.rename(columns={'WindDirDegrees<br />' : 'WindDirDegrees'})"
   ]
  },
  {
   "cell_type": "markdown",
   "metadata": {},
   "source": [
    "To remove the <code>'&lt; br /&gt;'</code> html line breaks from the values in the <code>'WindDirDegrees'</code> column you need to use the string method <code>rstrip()</code> which is used to remove characters from the *end* or 'rear' of a string:"
   ]
  },
  {
   "cell_type": "code",
   "execution_count": 20,
   "metadata": {
    "collapsed": true
   },
   "outputs": [],
   "source": [
    "london['WindDirDegrees'] = london['WindDirDegrees'].str.rstrip('<br />')"
   ]
  },
  {
   "cell_type": "markdown",
   "metadata": {},
   "source": [
    "Display the first few rows of the <code>'WindDirDegrees'</code> to confirm the change:"
   ]
  },
  {
   "cell_type": "code",
   "execution_count": 21,
   "metadata": {},
   "outputs": [
    {
     "data": {
      "text/plain": [
       "0    186\n",
       "1    214\n",
       "2    219\n",
       "3    211\n",
       "4    199\n",
       "Name: WindDirDegrees, dtype: object"
      ]
     },
     "execution_count": 21,
     "metadata": {},
     "output_type": "execute_result"
    }
   ],
   "source": [
    "london['WindDirDegrees'].head()"
   ]
  },
  {
   "cell_type": "markdown",
   "metadata": {},
   "source": [
    "### Missing values\n",
    "\n",
    "Missing (also called null or not available) values are marked as NaN (not a number) in dataframes."
   ]
  },
  {
   "cell_type": "code",
   "execution_count": 22,
   "metadata": {},
   "outputs": [
    {
     "data": {
      "text/plain": [
       "360    Rain\n",
       "361     NaN\n",
       "362     NaN\n",
       "363     NaN\n",
       "364     Fog\n",
       "Name: Events, dtype: object"
      ]
     },
     "execution_count": 22,
     "metadata": {},
     "output_type": "execute_result"
    }
   ],
   "source": [
    "london['Events'].tail()"
   ]
  },
  {
   "cell_type": "markdown",
   "metadata": {},
   "source": [
    "The `isnull()` method returns `True` for each row in a column that has a null value. The method can be used to select and display those rows. Scroll the table below to the right to check that the events column is only showing missing values."
   ]
  },
  {
   "cell_type": "code",
   "execution_count": 23,
   "metadata": {},
   "outputs": [
    {
     "data": {
      "text/html": [
       "<div>\n",
       "<style scoped>\n",
       "    .dataframe tbody tr th:only-of-type {\n",
       "        vertical-align: middle;\n",
       "    }\n",
       "\n",
       "    .dataframe tbody tr th {\n",
       "        vertical-align: top;\n",
       "    }\n",
       "\n",
       "    .dataframe thead th {\n",
       "        text-align: right;\n",
       "    }\n",
       "</style>\n",
       "<table border=\"1\" class=\"dataframe\">\n",
       "  <thead>\n",
       "    <tr style=\"text-align: right;\">\n",
       "      <th></th>\n",
       "      <th>GMT</th>\n",
       "      <th>Max TemperatureC</th>\n",
       "      <th>Mean TemperatureC</th>\n",
       "      <th>Min TemperatureC</th>\n",
       "      <th>Dew PointC</th>\n",
       "      <th>MeanDew PointC</th>\n",
       "      <th>Min DewpointC</th>\n",
       "      <th>Max Humidity</th>\n",
       "      <th>Mean Humidity</th>\n",
       "      <th>Min Humidity</th>\n",
       "      <th>...</th>\n",
       "      <th>Max VisibilityKm</th>\n",
       "      <th>Mean VisibilityKm</th>\n",
       "      <th>Min VisibilitykM</th>\n",
       "      <th>Max Wind SpeedKm/h</th>\n",
       "      <th>Mean Wind SpeedKm/h</th>\n",
       "      <th>Max Gust SpeedKm/h</th>\n",
       "      <th>Precipitationmm</th>\n",
       "      <th>CloudCover</th>\n",
       "      <th>Events</th>\n",
       "      <th>WindDirDegrees</th>\n",
       "    </tr>\n",
       "  </thead>\n",
       "  <tbody>\n",
       "    <tr>\n",
       "      <th>32</th>\n",
       "      <td>2014-2-2</td>\n",
       "      <td>10</td>\n",
       "      <td>8</td>\n",
       "      <td>5</td>\n",
       "      <td>4</td>\n",
       "      <td>3</td>\n",
       "      <td>1</td>\n",
       "      <td>93</td>\n",
       "      <td>71</td>\n",
       "      <td>43</td>\n",
       "      <td>...</td>\n",
       "      <td>31</td>\n",
       "      <td>16</td>\n",
       "      <td>10</td>\n",
       "      <td>37</td>\n",
       "      <td>24</td>\n",
       "      <td>47.0</td>\n",
       "      <td>0.00</td>\n",
       "      <td>2.0</td>\n",
       "      <td>NaN</td>\n",
       "      <td>216</td>\n",
       "    </tr>\n",
       "    <tr>\n",
       "      <th>33</th>\n",
       "      <td>2014-2-3</td>\n",
       "      <td>8</td>\n",
       "      <td>6</td>\n",
       "      <td>3</td>\n",
       "      <td>5</td>\n",
       "      <td>3</td>\n",
       "      <td>2</td>\n",
       "      <td>93</td>\n",
       "      <td>79</td>\n",
       "      <td>55</td>\n",
       "      <td>...</td>\n",
       "      <td>31</td>\n",
       "      <td>15</td>\n",
       "      <td>10</td>\n",
       "      <td>32</td>\n",
       "      <td>18</td>\n",
       "      <td>NaN</td>\n",
       "      <td>0.00</td>\n",
       "      <td>4.0</td>\n",
       "      <td>NaN</td>\n",
       "      <td>133</td>\n",
       "    </tr>\n",
       "    <tr>\n",
       "      <th>43</th>\n",
       "      <td>2014-2-13</td>\n",
       "      <td>8</td>\n",
       "      <td>6</td>\n",
       "      <td>3</td>\n",
       "      <td>2</td>\n",
       "      <td>1</td>\n",
       "      <td>-1</td>\n",
       "      <td>81</td>\n",
       "      <td>66</td>\n",
       "      <td>45</td>\n",
       "      <td>...</td>\n",
       "      <td>31</td>\n",
       "      <td>15</td>\n",
       "      <td>10</td>\n",
       "      <td>42</td>\n",
       "      <td>27</td>\n",
       "      <td>48.0</td>\n",
       "      <td>0.00</td>\n",
       "      <td>2.0</td>\n",
       "      <td>NaN</td>\n",
       "      <td>236</td>\n",
       "    </tr>\n",
       "    <tr>\n",
       "      <th>52</th>\n",
       "      <td>2014-2-22</td>\n",
       "      <td>12</td>\n",
       "      <td>8</td>\n",
       "      <td>4</td>\n",
       "      <td>5</td>\n",
       "      <td>3</td>\n",
       "      <td>1</td>\n",
       "      <td>87</td>\n",
       "      <td>68</td>\n",
       "      <td>38</td>\n",
       "      <td>...</td>\n",
       "      <td>31</td>\n",
       "      <td>16</td>\n",
       "      <td>10</td>\n",
       "      <td>29</td>\n",
       "      <td>21</td>\n",
       "      <td>NaN</td>\n",
       "      <td>0.00</td>\n",
       "      <td>2.0</td>\n",
       "      <td>NaN</td>\n",
       "      <td>228</td>\n",
       "    </tr>\n",
       "    <tr>\n",
       "      <th>63</th>\n",
       "      <td>2014-3-5</td>\n",
       "      <td>13</td>\n",
       "      <td>7</td>\n",
       "      <td>0</td>\n",
       "      <td>4</td>\n",
       "      <td>2</td>\n",
       "      <td>-1</td>\n",
       "      <td>100</td>\n",
       "      <td>72</td>\n",
       "      <td>40</td>\n",
       "      <td>...</td>\n",
       "      <td>31</td>\n",
       "      <td>15</td>\n",
       "      <td>8</td>\n",
       "      <td>21</td>\n",
       "      <td>6</td>\n",
       "      <td>NaN</td>\n",
       "      <td>0.25</td>\n",
       "      <td>1.0</td>\n",
       "      <td>NaN</td>\n",
       "      <td>248</td>\n",
       "    </tr>\n",
       "    <tr>\n",
       "      <th>...</th>\n",
       "      <td>...</td>\n",
       "      <td>...</td>\n",
       "      <td>...</td>\n",
       "      <td>...</td>\n",
       "      <td>...</td>\n",
       "      <td>...</td>\n",
       "      <td>...</td>\n",
       "      <td>...</td>\n",
       "      <td>...</td>\n",
       "      <td>...</td>\n",
       "      <td>...</td>\n",
       "      <td>...</td>\n",
       "      <td>...</td>\n",
       "      <td>...</td>\n",
       "      <td>...</td>\n",
       "      <td>...</td>\n",
       "      <td>...</td>\n",
       "      <td>...</td>\n",
       "      <td>...</td>\n",
       "      <td>...</td>\n",
       "      <td>...</td>\n",
       "    </tr>\n",
       "    <tr>\n",
       "      <th>351</th>\n",
       "      <td>2014-12-18</td>\n",
       "      <td>13</td>\n",
       "      <td>12</td>\n",
       "      <td>11</td>\n",
       "      <td>11</td>\n",
       "      <td>11</td>\n",
       "      <td>10</td>\n",
       "      <td>94</td>\n",
       "      <td>85</td>\n",
       "      <td>74</td>\n",
       "      <td>...</td>\n",
       "      <td>31</td>\n",
       "      <td>12</td>\n",
       "      <td>10</td>\n",
       "      <td>37</td>\n",
       "      <td>29</td>\n",
       "      <td>60.0</td>\n",
       "      <td>0.00</td>\n",
       "      <td>6.0</td>\n",
       "      <td>NaN</td>\n",
       "      <td>245</td>\n",
       "    </tr>\n",
       "    <tr>\n",
       "      <th>358</th>\n",
       "      <td>2014-12-25</td>\n",
       "      <td>8</td>\n",
       "      <td>6</td>\n",
       "      <td>2</td>\n",
       "      <td>3</td>\n",
       "      <td>2</td>\n",
       "      <td>1</td>\n",
       "      <td>93</td>\n",
       "      <td>79</td>\n",
       "      <td>51</td>\n",
       "      <td>...</td>\n",
       "      <td>31</td>\n",
       "      <td>19</td>\n",
       "      <td>10</td>\n",
       "      <td>24</td>\n",
       "      <td>16</td>\n",
       "      <td>NaN</td>\n",
       "      <td>0.00</td>\n",
       "      <td>1.0</td>\n",
       "      <td>NaN</td>\n",
       "      <td>275</td>\n",
       "    </tr>\n",
       "    <tr>\n",
       "      <th>361</th>\n",
       "      <td>2014-12-28</td>\n",
       "      <td>6</td>\n",
       "      <td>2</td>\n",
       "      <td>-2</td>\n",
       "      <td>1</td>\n",
       "      <td>-2</td>\n",
       "      <td>-3</td>\n",
       "      <td>100</td>\n",
       "      <td>76</td>\n",
       "      <td>45</td>\n",
       "      <td>...</td>\n",
       "      <td>31</td>\n",
       "      <td>17</td>\n",
       "      <td>8</td>\n",
       "      <td>16</td>\n",
       "      <td>11</td>\n",
       "      <td>NaN</td>\n",
       "      <td>0.00</td>\n",
       "      <td>1.0</td>\n",
       "      <td>NaN</td>\n",
       "      <td>5</td>\n",
       "    </tr>\n",
       "    <tr>\n",
       "      <th>362</th>\n",
       "      <td>2014-12-29</td>\n",
       "      <td>6</td>\n",
       "      <td>1</td>\n",
       "      <td>-4</td>\n",
       "      <td>2</td>\n",
       "      <td>-1</td>\n",
       "      <td>-4</td>\n",
       "      <td>100</td>\n",
       "      <td>87</td>\n",
       "      <td>62</td>\n",
       "      <td>...</td>\n",
       "      <td>24</td>\n",
       "      <td>10</td>\n",
       "      <td>5</td>\n",
       "      <td>13</td>\n",
       "      <td>8</td>\n",
       "      <td>NaN</td>\n",
       "      <td>0.25</td>\n",
       "      <td>1.0</td>\n",
       "      <td>NaN</td>\n",
       "      <td>289</td>\n",
       "    </tr>\n",
       "    <tr>\n",
       "      <th>363</th>\n",
       "      <td>2014-12-30</td>\n",
       "      <td>6</td>\n",
       "      <td>1</td>\n",
       "      <td>-4</td>\n",
       "      <td>2</td>\n",
       "      <td>-1</td>\n",
       "      <td>-4</td>\n",
       "      <td>100</td>\n",
       "      <td>90</td>\n",
       "      <td>68</td>\n",
       "      <td>...</td>\n",
       "      <td>27</td>\n",
       "      <td>9</td>\n",
       "      <td>3</td>\n",
       "      <td>14</td>\n",
       "      <td>6</td>\n",
       "      <td>NaN</td>\n",
       "      <td>0.25</td>\n",
       "      <td>3.0</td>\n",
       "      <td>NaN</td>\n",
       "      <td>258</td>\n",
       "    </tr>\n",
       "  </tbody>\n",
       "</table>\n",
       "<p>114 rows × 23 columns</p>\n",
       "</div>"
      ],
      "text/plain": [
       "            GMT  Max TemperatureC  Mean TemperatureC  Min TemperatureC  \\\n",
       "32     2014-2-2                10                  8                 5   \n",
       "33     2014-2-3                 8                  6                 3   \n",
       "43    2014-2-13                 8                  6                 3   \n",
       "52    2014-2-22                12                  8                 4   \n",
       "63     2014-3-5                13                  7                 0   \n",
       "..          ...               ...                ...               ...   \n",
       "351  2014-12-18                13                 12                11   \n",
       "358  2014-12-25                 8                  6                 2   \n",
       "361  2014-12-28                 6                  2                -2   \n",
       "362  2014-12-29                 6                  1                -4   \n",
       "363  2014-12-30                 6                  1                -4   \n",
       "\n",
       "     Dew PointC  MeanDew PointC  Min DewpointC  Max Humidity  Mean Humidity  \\\n",
       "32            4               3              1            93             71   \n",
       "33            5               3              2            93             79   \n",
       "43            2               1             -1            81             66   \n",
       "52            5               3              1            87             68   \n",
       "63            4               2             -1           100             72   \n",
       "..          ...             ...            ...           ...            ...   \n",
       "351          11              11             10            94             85   \n",
       "358           3               2              1            93             79   \n",
       "361           1              -2             -3           100             76   \n",
       "362           2              -1             -4           100             87   \n",
       "363           2              -1             -4           100             90   \n",
       "\n",
       "     Min Humidity  ...  Max VisibilityKm  Mean VisibilityKm  Min VisibilitykM  \\\n",
       "32             43  ...                31                 16                10   \n",
       "33             55  ...                31                 15                10   \n",
       "43             45  ...                31                 15                10   \n",
       "52             38  ...                31                 16                10   \n",
       "63             40  ...                31                 15                 8   \n",
       "..            ...  ...               ...                ...               ...   \n",
       "351            74  ...                31                 12                10   \n",
       "358            51  ...                31                 19                10   \n",
       "361            45  ...                31                 17                 8   \n",
       "362            62  ...                24                 10                 5   \n",
       "363            68  ...                27                  9                 3   \n",
       "\n",
       "     Max Wind SpeedKm/h  Mean Wind SpeedKm/h  Max Gust SpeedKm/h  \\\n",
       "32                   37                   24                47.0   \n",
       "33                   32                   18                 NaN   \n",
       "43                   42                   27                48.0   \n",
       "52                   29                   21                 NaN   \n",
       "63                   21                    6                 NaN   \n",
       "..                  ...                  ...                 ...   \n",
       "351                  37                   29                60.0   \n",
       "358                  24                   16                 NaN   \n",
       "361                  16                   11                 NaN   \n",
       "362                  13                    8                 NaN   \n",
       "363                  14                    6                 NaN   \n",
       "\n",
       "     Precipitationmm  CloudCover  Events  WindDirDegrees  \n",
       "32              0.00         2.0     NaN             216  \n",
       "33              0.00         4.0     NaN             133  \n",
       "43              0.00         2.0     NaN             236  \n",
       "52              0.00         2.0     NaN             228  \n",
       "63              0.25         1.0     NaN             248  \n",
       "..               ...         ...     ...             ...  \n",
       "351             0.00         6.0     NaN             245  \n",
       "358             0.00         1.0     NaN             275  \n",
       "361             0.00         1.0     NaN               5  \n",
       "362             0.25         1.0     NaN             289  \n",
       "363             0.25         3.0     NaN             258  \n",
       "\n",
       "[114 rows x 23 columns]"
      ]
     },
     "execution_count": 23,
     "metadata": {},
     "output_type": "execute_result"
    }
   ],
   "source": [
    "london[london['Events'].isnull()]"
   ]
  },
  {
   "cell_type": "markdown",
   "metadata": {},
   "source": [
    "One way to deal with missing values is to replace them by some value. The column method `fillna()` fills all not available value cells with the value given as argument. In the example below, each missing event is replaced by the empty string."
   ]
  },
  {
   "cell_type": "code",
   "execution_count": 24,
   "metadata": {
    "scrolled": true
   },
   "outputs": [
    {
     "data": {
      "text/html": [
       "<div>\n",
       "<style scoped>\n",
       "    .dataframe tbody tr th:only-of-type {\n",
       "        vertical-align: middle;\n",
       "    }\n",
       "\n",
       "    .dataframe tbody tr th {\n",
       "        vertical-align: top;\n",
       "    }\n",
       "\n",
       "    .dataframe thead th {\n",
       "        text-align: right;\n",
       "    }\n",
       "</style>\n",
       "<table border=\"1\" class=\"dataframe\">\n",
       "  <thead>\n",
       "    <tr style=\"text-align: right;\">\n",
       "      <th></th>\n",
       "      <th>GMT</th>\n",
       "      <th>Max TemperatureC</th>\n",
       "      <th>Mean TemperatureC</th>\n",
       "      <th>Min TemperatureC</th>\n",
       "      <th>Dew PointC</th>\n",
       "      <th>MeanDew PointC</th>\n",
       "      <th>Min DewpointC</th>\n",
       "      <th>Max Humidity</th>\n",
       "      <th>Mean Humidity</th>\n",
       "      <th>Min Humidity</th>\n",
       "      <th>...</th>\n",
       "      <th>Max VisibilityKm</th>\n",
       "      <th>Mean VisibilityKm</th>\n",
       "      <th>Min VisibilitykM</th>\n",
       "      <th>Max Wind SpeedKm/h</th>\n",
       "      <th>Mean Wind SpeedKm/h</th>\n",
       "      <th>Max Gust SpeedKm/h</th>\n",
       "      <th>Precipitationmm</th>\n",
       "      <th>CloudCover</th>\n",
       "      <th>Events</th>\n",
       "      <th>WindDirDegrees</th>\n",
       "    </tr>\n",
       "  </thead>\n",
       "  <tbody>\n",
       "  </tbody>\n",
       "</table>\n",
       "<p>0 rows × 23 columns</p>\n",
       "</div>"
      ],
      "text/plain": [
       "Empty DataFrame\n",
       "Columns: [GMT, Max TemperatureC, Mean TemperatureC, Min TemperatureC, Dew PointC, MeanDew PointC, Min DewpointC, Max Humidity, Mean Humidity, Min Humidity, Max Sea Level PressurehPa, Mean Sea Level PressurehPa, Min Sea Level PressurehPa, Max VisibilityKm, Mean VisibilityKm, Min VisibilitykM, Max Wind SpeedKm/h, Mean Wind SpeedKm/h, Max Gust SpeedKm/h, Precipitationmm, CloudCover, Events, WindDirDegrees]\n",
       "Index: []\n",
       "\n",
       "[0 rows x 23 columns]"
      ]
     },
     "execution_count": 24,
     "metadata": {},
     "output_type": "execute_result"
    }
   ],
   "source": [
    "london['Events'] = london['Events'].fillna('')\n",
    "london[london['Events'].isnull()]"
   ]
  },
  {
   "cell_type": "markdown",
   "metadata": {},
   "source": [
    "The empty dataframe (no rows) confirms there are no more missing event values.\n",
    "\n",
    "Another way to deal with missing values is to ignore rows with them. The `dropna()` dataframe method returns a new dataframe where all rows with at least one non-available value have been removed."
   ]
  },
  {
   "cell_type": "code",
   "execution_count": 25,
   "metadata": {
    "scrolled": true
   },
   "outputs": [
    {
     "data": {
      "text/html": [
       "<div>\n",
       "<style scoped>\n",
       "    .dataframe tbody tr th:only-of-type {\n",
       "        vertical-align: middle;\n",
       "    }\n",
       "\n",
       "    .dataframe tbody tr th {\n",
       "        vertical-align: top;\n",
       "    }\n",
       "\n",
       "    .dataframe thead th {\n",
       "        text-align: right;\n",
       "    }\n",
       "</style>\n",
       "<table border=\"1\" class=\"dataframe\">\n",
       "  <thead>\n",
       "    <tr style=\"text-align: right;\">\n",
       "      <th></th>\n",
       "      <th>GMT</th>\n",
       "      <th>Max TemperatureC</th>\n",
       "      <th>Mean TemperatureC</th>\n",
       "      <th>Min TemperatureC</th>\n",
       "      <th>Dew PointC</th>\n",
       "      <th>MeanDew PointC</th>\n",
       "      <th>Min DewpointC</th>\n",
       "      <th>Max Humidity</th>\n",
       "      <th>Mean Humidity</th>\n",
       "      <th>Min Humidity</th>\n",
       "      <th>...</th>\n",
       "      <th>Max VisibilityKm</th>\n",
       "      <th>Mean VisibilityKm</th>\n",
       "      <th>Min VisibilitykM</th>\n",
       "      <th>Max Wind SpeedKm/h</th>\n",
       "      <th>Mean Wind SpeedKm/h</th>\n",
       "      <th>Max Gust SpeedKm/h</th>\n",
       "      <th>Precipitationmm</th>\n",
       "      <th>CloudCover</th>\n",
       "      <th>Events</th>\n",
       "      <th>WindDirDegrees</th>\n",
       "    </tr>\n",
       "  </thead>\n",
       "  <tbody>\n",
       "    <tr>\n",
       "      <th>0</th>\n",
       "      <td>2014-1-1</td>\n",
       "      <td>11</td>\n",
       "      <td>8</td>\n",
       "      <td>6</td>\n",
       "      <td>9</td>\n",
       "      <td>7</td>\n",
       "      <td>4</td>\n",
       "      <td>94</td>\n",
       "      <td>86</td>\n",
       "      <td>73</td>\n",
       "      <td>...</td>\n",
       "      <td>31</td>\n",
       "      <td>11</td>\n",
       "      <td>2</td>\n",
       "      <td>40</td>\n",
       "      <td>26</td>\n",
       "      <td>66.0</td>\n",
       "      <td>9.91</td>\n",
       "      <td>4.0</td>\n",
       "      <td>Rain</td>\n",
       "      <td>186</td>\n",
       "    </tr>\n",
       "    <tr>\n",
       "      <th>1</th>\n",
       "      <td>2014-1-2</td>\n",
       "      <td>11</td>\n",
       "      <td>9</td>\n",
       "      <td>6</td>\n",
       "      <td>9</td>\n",
       "      <td>6</td>\n",
       "      <td>4</td>\n",
       "      <td>94</td>\n",
       "      <td>81</td>\n",
       "      <td>60</td>\n",
       "      <td>...</td>\n",
       "      <td>31</td>\n",
       "      <td>15</td>\n",
       "      <td>5</td>\n",
       "      <td>32</td>\n",
       "      <td>21</td>\n",
       "      <td>50.0</td>\n",
       "      <td>1.02</td>\n",
       "      <td>2.0</td>\n",
       "      <td>Rain</td>\n",
       "      <td>214</td>\n",
       "    </tr>\n",
       "    <tr>\n",
       "      <th>2</th>\n",
       "      <td>2014-1-3</td>\n",
       "      <td>11</td>\n",
       "      <td>8</td>\n",
       "      <td>6</td>\n",
       "      <td>9</td>\n",
       "      <td>5</td>\n",
       "      <td>2</td>\n",
       "      <td>94</td>\n",
       "      <td>76</td>\n",
       "      <td>54</td>\n",
       "      <td>...</td>\n",
       "      <td>31</td>\n",
       "      <td>12</td>\n",
       "      <td>0</td>\n",
       "      <td>50</td>\n",
       "      <td>29</td>\n",
       "      <td>69.0</td>\n",
       "      <td>7.11</td>\n",
       "      <td>2.0</td>\n",
       "      <td>Rain-Thunderstorm</td>\n",
       "      <td>219</td>\n",
       "    </tr>\n",
       "    <tr>\n",
       "      <th>3</th>\n",
       "      <td>2014-1-4</td>\n",
       "      <td>9</td>\n",
       "      <td>6</td>\n",
       "      <td>3</td>\n",
       "      <td>8</td>\n",
       "      <td>6</td>\n",
       "      <td>2</td>\n",
       "      <td>93</td>\n",
       "      <td>85</td>\n",
       "      <td>65</td>\n",
       "      <td>...</td>\n",
       "      <td>31</td>\n",
       "      <td>12</td>\n",
       "      <td>5</td>\n",
       "      <td>35</td>\n",
       "      <td>21</td>\n",
       "      <td>39.0</td>\n",
       "      <td>9.91</td>\n",
       "      <td>4.0</td>\n",
       "      <td>Rain</td>\n",
       "      <td>211</td>\n",
       "    </tr>\n",
       "    <tr>\n",
       "      <th>5</th>\n",
       "      <td>2014-1-6</td>\n",
       "      <td>12</td>\n",
       "      <td>10</td>\n",
       "      <td>8</td>\n",
       "      <td>11</td>\n",
       "      <td>8</td>\n",
       "      <td>6</td>\n",
       "      <td>94</td>\n",
       "      <td>78</td>\n",
       "      <td>60</td>\n",
       "      <td>...</td>\n",
       "      <td>31</td>\n",
       "      <td>12</td>\n",
       "      <td>5</td>\n",
       "      <td>50</td>\n",
       "      <td>29</td>\n",
       "      <td>61.0</td>\n",
       "      <td>2.03</td>\n",
       "      <td>4.0</td>\n",
       "      <td>Rain</td>\n",
       "      <td>219</td>\n",
       "    </tr>\n",
       "    <tr>\n",
       "      <th>...</th>\n",
       "      <td>...</td>\n",
       "      <td>...</td>\n",
       "      <td>...</td>\n",
       "      <td>...</td>\n",
       "      <td>...</td>\n",
       "      <td>...</td>\n",
       "      <td>...</td>\n",
       "      <td>...</td>\n",
       "      <td>...</td>\n",
       "      <td>...</td>\n",
       "      <td>...</td>\n",
       "      <td>...</td>\n",
       "      <td>...</td>\n",
       "      <td>...</td>\n",
       "      <td>...</td>\n",
       "      <td>...</td>\n",
       "      <td>...</td>\n",
       "      <td>...</td>\n",
       "      <td>...</td>\n",
       "      <td>...</td>\n",
       "      <td>...</td>\n",
       "    </tr>\n",
       "    <tr>\n",
       "      <th>355</th>\n",
       "      <td>2014-12-22</td>\n",
       "      <td>13</td>\n",
       "      <td>12</td>\n",
       "      <td>10</td>\n",
       "      <td>11</td>\n",
       "      <td>9</td>\n",
       "      <td>7</td>\n",
       "      <td>94</td>\n",
       "      <td>77</td>\n",
       "      <td>63</td>\n",
       "      <td>...</td>\n",
       "      <td>31</td>\n",
       "      <td>14</td>\n",
       "      <td>8</td>\n",
       "      <td>40</td>\n",
       "      <td>32</td>\n",
       "      <td>55.0</td>\n",
       "      <td>0.00</td>\n",
       "      <td>5.0</td>\n",
       "      <td>Rain</td>\n",
       "      <td>240</td>\n",
       "    </tr>\n",
       "    <tr>\n",
       "      <th>356</th>\n",
       "      <td>2014-12-23</td>\n",
       "      <td>13</td>\n",
       "      <td>11</td>\n",
       "      <td>10</td>\n",
       "      <td>9</td>\n",
       "      <td>7</td>\n",
       "      <td>5</td>\n",
       "      <td>82</td>\n",
       "      <td>72</td>\n",
       "      <td>58</td>\n",
       "      <td>...</td>\n",
       "      <td>31</td>\n",
       "      <td>12</td>\n",
       "      <td>10</td>\n",
       "      <td>42</td>\n",
       "      <td>32</td>\n",
       "      <td>61.0</td>\n",
       "      <td>0.00</td>\n",
       "      <td>4.0</td>\n",
       "      <td>Rain</td>\n",
       "      <td>238</td>\n",
       "    </tr>\n",
       "    <tr>\n",
       "      <th>357</th>\n",
       "      <td>2014-12-24</td>\n",
       "      <td>12</td>\n",
       "      <td>8</td>\n",
       "      <td>4</td>\n",
       "      <td>10</td>\n",
       "      <td>4</td>\n",
       "      <td>-2</td>\n",
       "      <td>94</td>\n",
       "      <td>71</td>\n",
       "      <td>38</td>\n",
       "      <td>...</td>\n",
       "      <td>31</td>\n",
       "      <td>13</td>\n",
       "      <td>10</td>\n",
       "      <td>34</td>\n",
       "      <td>26</td>\n",
       "      <td>45.0</td>\n",
       "      <td>0.25</td>\n",
       "      <td>5.0</td>\n",
       "      <td>Rain</td>\n",
       "      <td>262</td>\n",
       "    </tr>\n",
       "    <tr>\n",
       "      <th>360</th>\n",
       "      <td>2014-12-27</td>\n",
       "      <td>4</td>\n",
       "      <td>3</td>\n",
       "      <td>2</td>\n",
       "      <td>8</td>\n",
       "      <td>1</td>\n",
       "      <td>-1</td>\n",
       "      <td>93</td>\n",
       "      <td>83</td>\n",
       "      <td>64</td>\n",
       "      <td>...</td>\n",
       "      <td>31</td>\n",
       "      <td>13</td>\n",
       "      <td>9</td>\n",
       "      <td>42</td>\n",
       "      <td>26</td>\n",
       "      <td>61.0</td>\n",
       "      <td>0.00</td>\n",
       "      <td>4.0</td>\n",
       "      <td>Rain</td>\n",
       "      <td>330</td>\n",
       "    </tr>\n",
       "    <tr>\n",
       "      <th>364</th>\n",
       "      <td>2014-12-31</td>\n",
       "      <td>8</td>\n",
       "      <td>2</td>\n",
       "      <td>-4</td>\n",
       "      <td>5</td>\n",
       "      <td>2</td>\n",
       "      <td>-4</td>\n",
       "      <td>100</td>\n",
       "      <td>89</td>\n",
       "      <td>70</td>\n",
       "      <td>...</td>\n",
       "      <td>19</td>\n",
       "      <td>9</td>\n",
       "      <td>0</td>\n",
       "      <td>23</td>\n",
       "      <td>8</td>\n",
       "      <td>37.0</td>\n",
       "      <td>0.25</td>\n",
       "      <td>4.0</td>\n",
       "      <td>Fog</td>\n",
       "      <td>201</td>\n",
       "    </tr>\n",
       "  </tbody>\n",
       "</table>\n",
       "<p>128 rows × 23 columns</p>\n",
       "</div>"
      ],
      "text/plain": [
       "            GMT  Max TemperatureC  Mean TemperatureC  Min TemperatureC  \\\n",
       "0      2014-1-1                11                  8                 6   \n",
       "1      2014-1-2                11                  9                 6   \n",
       "2      2014-1-3                11                  8                 6   \n",
       "3      2014-1-4                 9                  6                 3   \n",
       "5      2014-1-6                12                 10                 8   \n",
       "..          ...               ...                ...               ...   \n",
       "355  2014-12-22                13                 12                10   \n",
       "356  2014-12-23                13                 11                10   \n",
       "357  2014-12-24                12                  8                 4   \n",
       "360  2014-12-27                 4                  3                 2   \n",
       "364  2014-12-31                 8                  2                -4   \n",
       "\n",
       "     Dew PointC  MeanDew PointC  Min DewpointC  Max Humidity  Mean Humidity  \\\n",
       "0             9               7              4            94             86   \n",
       "1             9               6              4            94             81   \n",
       "2             9               5              2            94             76   \n",
       "3             8               6              2            93             85   \n",
       "5            11               8              6            94             78   \n",
       "..          ...             ...            ...           ...            ...   \n",
       "355          11               9              7            94             77   \n",
       "356           9               7              5            82             72   \n",
       "357          10               4             -2            94             71   \n",
       "360           8               1             -1            93             83   \n",
       "364           5               2             -4           100             89   \n",
       "\n",
       "     Min Humidity  ...  Max VisibilityKm  Mean VisibilityKm  Min VisibilitykM  \\\n",
       "0              73  ...                31                 11                 2   \n",
       "1              60  ...                31                 15                 5   \n",
       "2              54  ...                31                 12                 0   \n",
       "3              65  ...                31                 12                 5   \n",
       "5              60  ...                31                 12                 5   \n",
       "..            ...  ...               ...                ...               ...   \n",
       "355            63  ...                31                 14                 8   \n",
       "356            58  ...                31                 12                10   \n",
       "357            38  ...                31                 13                10   \n",
       "360            64  ...                31                 13                 9   \n",
       "364            70  ...                19                  9                 0   \n",
       "\n",
       "     Max Wind SpeedKm/h  Mean Wind SpeedKm/h  Max Gust SpeedKm/h  \\\n",
       "0                    40                   26                66.0   \n",
       "1                    32                   21                50.0   \n",
       "2                    50                   29                69.0   \n",
       "3                    35                   21                39.0   \n",
       "5                    50                   29                61.0   \n",
       "..                  ...                  ...                 ...   \n",
       "355                  40                   32                55.0   \n",
       "356                  42                   32                61.0   \n",
       "357                  34                   26                45.0   \n",
       "360                  42                   26                61.0   \n",
       "364                  23                    8                37.0   \n",
       "\n",
       "     Precipitationmm  CloudCover             Events  WindDirDegrees  \n",
       "0               9.91         4.0               Rain             186  \n",
       "1               1.02         2.0               Rain             214  \n",
       "2               7.11         2.0  Rain-Thunderstorm             219  \n",
       "3               9.91         4.0               Rain             211  \n",
       "5               2.03         4.0               Rain             219  \n",
       "..               ...         ...                ...             ...  \n",
       "355             0.00         5.0               Rain             240  \n",
       "356             0.00         4.0               Rain             238  \n",
       "357             0.25         5.0               Rain             262  \n",
       "360             0.00         4.0               Rain             330  \n",
       "364             0.25         4.0                Fog             201  \n",
       "\n",
       "[128 rows x 23 columns]"
      ]
     },
     "execution_count": 25,
     "metadata": {},
     "output_type": "execute_result"
    }
   ],
   "source": [
    "london.dropna()"
   ]
  },
  {
   "cell_type": "markdown",
   "metadata": {},
   "source": [
    "Note that the table above has fewer than 251 of the original 365 rows, so there must be further null values besides the 114 missing events."
   ]
  },
  {
   "cell_type": "markdown",
   "metadata": {},
   "source": [
    "### Changing the value type of a column"
   ]
  },
  {
   "cell_type": "markdown",
   "metadata": {},
   "source": [
    "The type of every column in a dataframe can be determined by looking at the dataframe's `dtypes` attribute, like this:"
   ]
  },
  {
   "cell_type": "code",
   "execution_count": 26,
   "metadata": {
    "scrolled": true
   },
   "outputs": [
    {
     "data": {
      "text/plain": [
       "GMT                            object\n",
       "Max TemperatureC                int64\n",
       "Mean TemperatureC               int64\n",
       "Min TemperatureC                int64\n",
       "Dew PointC                      int64\n",
       "MeanDew PointC                  int64\n",
       "Min DewpointC                   int64\n",
       "Max Humidity                    int64\n",
       "Mean Humidity                   int64\n",
       "Min Humidity                    int64\n",
       "Max Sea Level PressurehPa       int64\n",
       "Mean Sea Level PressurehPa      int64\n",
       "Min Sea Level PressurehPa       int64\n",
       "Max VisibilityKm                int64\n",
       "Mean VisibilityKm               int64\n",
       "Min VisibilitykM                int64\n",
       "Max Wind SpeedKm/h              int64\n",
       "Mean Wind SpeedKm/h             int64\n",
       "Max Gust SpeedKm/h            float64\n",
       "Precipitationmm               float64\n",
       "CloudCover                    float64\n",
       "Events                         object\n",
       "WindDirDegrees                 object\n",
       "dtype: object"
      ]
     },
     "execution_count": 26,
     "metadata": {},
     "output_type": "execute_result"
    }
   ],
   "source": [
    "london.dtypes"
   ]
  },
  {
   "cell_type": "markdown",
   "metadata": {},
   "source": [
    "The type of all the values in a column can be changed using the <code>astype()</code> method. The following code will change the values in the <code>'WindDirDegrees'</code> column from strings (`object`) to integers (<code>int64</code>)."
   ]
  },
  {
   "cell_type": "code",
   "execution_count": 27,
   "metadata": {
    "collapsed": true
   },
   "outputs": [],
   "source": [
    "london['WindDirDegrees'] = london['WindDirDegrees'].astype('int64')   "
   ]
  },
  {
   "cell_type": "markdown",
   "metadata": {},
   "source": [
    "The function `to_datetime()` is needed to change the values in the `'GMT'` column from strings (`object`) to dates (`datetime64`):"
   ]
  },
  {
   "cell_type": "code",
   "execution_count": 28,
   "metadata": {},
   "outputs": [
    {
     "data": {
      "text/plain": [
       "GMT                           datetime64[ns]\n",
       "Max TemperatureC                       int64\n",
       "Mean TemperatureC                      int64\n",
       "Min TemperatureC                       int64\n",
       "Dew PointC                             int64\n",
       "MeanDew PointC                         int64\n",
       "Min DewpointC                          int64\n",
       "Max Humidity                           int64\n",
       "Mean Humidity                          int64\n",
       "Min Humidity                           int64\n",
       "Max Sea Level PressurehPa              int64\n",
       "Mean Sea Level PressurehPa             int64\n",
       "Min Sea Level PressurehPa              int64\n",
       "Max VisibilityKm                       int64\n",
       "Mean VisibilityKm                      int64\n",
       "Min VisibilitykM                       int64\n",
       "Max Wind SpeedKm/h                     int64\n",
       "Mean Wind SpeedKm/h                    int64\n",
       "Max Gust SpeedKm/h                   float64\n",
       "Precipitationmm                      float64\n",
       "CloudCover                           float64\n",
       "Events                                object\n",
       "WindDirDegrees                         int64\n",
       "dtype: object"
      ]
     },
     "execution_count": 28,
     "metadata": {},
     "output_type": "execute_result"
    }
   ],
   "source": [
    "london['GMT'] = to_datetime(london['GMT'])\n",
    "london.dtypes"
   ]
  },
  {
   "cell_type": "markdown",
   "metadata": {},
   "source": [
    "Values of type `datetime64` can be created using the `datetime()` function, provided by the package of the same name. The first integer argument is the year, the second the month and the third the day. \n",
    "The code below will get and display the row in the dataframe whose `'GMT'` value is 4th June 2014."
   ]
  },
  {
   "cell_type": "code",
   "execution_count": 29,
   "metadata": {},
   "outputs": [
    {
     "data": {
      "text/html": [
       "<div>\n",
       "<style scoped>\n",
       "    .dataframe tbody tr th:only-of-type {\n",
       "        vertical-align: middle;\n",
       "    }\n",
       "\n",
       "    .dataframe tbody tr th {\n",
       "        vertical-align: top;\n",
       "    }\n",
       "\n",
       "    .dataframe thead th {\n",
       "        text-align: right;\n",
       "    }\n",
       "</style>\n",
       "<table border=\"1\" class=\"dataframe\">\n",
       "  <thead>\n",
       "    <tr style=\"text-align: right;\">\n",
       "      <th></th>\n",
       "      <th>GMT</th>\n",
       "      <th>Max TemperatureC</th>\n",
       "      <th>Mean TemperatureC</th>\n",
       "      <th>Min TemperatureC</th>\n",
       "      <th>Dew PointC</th>\n",
       "      <th>MeanDew PointC</th>\n",
       "      <th>Min DewpointC</th>\n",
       "      <th>Max Humidity</th>\n",
       "      <th>Mean Humidity</th>\n",
       "      <th>Min Humidity</th>\n",
       "      <th>...</th>\n",
       "      <th>Max VisibilityKm</th>\n",
       "      <th>Mean VisibilityKm</th>\n",
       "      <th>Min VisibilitykM</th>\n",
       "      <th>Max Wind SpeedKm/h</th>\n",
       "      <th>Mean Wind SpeedKm/h</th>\n",
       "      <th>Max Gust SpeedKm/h</th>\n",
       "      <th>Precipitationmm</th>\n",
       "      <th>CloudCover</th>\n",
       "      <th>Events</th>\n",
       "      <th>WindDirDegrees</th>\n",
       "    </tr>\n",
       "  </thead>\n",
       "  <tbody>\n",
       "    <tr>\n",
       "      <th>154</th>\n",
       "      <td>2014-06-04</td>\n",
       "      <td>14</td>\n",
       "      <td>11</td>\n",
       "      <td>8</td>\n",
       "      <td>11</td>\n",
       "      <td>9</td>\n",
       "      <td>3</td>\n",
       "      <td>94</td>\n",
       "      <td>78</td>\n",
       "      <td>47</td>\n",
       "      <td>...</td>\n",
       "      <td>31</td>\n",
       "      <td>12</td>\n",
       "      <td>7</td>\n",
       "      <td>47</td>\n",
       "      <td>13</td>\n",
       "      <td>64.0</td>\n",
       "      <td>2.03</td>\n",
       "      <td>4.0</td>\n",
       "      <td>Rain-Thunderstorm</td>\n",
       "      <td>230</td>\n",
       "    </tr>\n",
       "  </tbody>\n",
       "</table>\n",
       "<p>1 rows × 23 columns</p>\n",
       "</div>"
      ],
      "text/plain": [
       "           GMT  Max TemperatureC  Mean TemperatureC  Min TemperatureC  \\\n",
       "154 2014-06-04                14                 11                 8   \n",
       "\n",
       "     Dew PointC  MeanDew PointC  Min DewpointC  Max Humidity  Mean Humidity  \\\n",
       "154          11               9              3            94             78   \n",
       "\n",
       "     Min Humidity  ...  Max VisibilityKm  Mean VisibilityKm  Min VisibilitykM  \\\n",
       "154            47  ...                31                 12                 7   \n",
       "\n",
       "     Max Wind SpeedKm/h  Mean Wind SpeedKm/h  Max Gust SpeedKm/h  \\\n",
       "154                  47                   13                64.0   \n",
       "\n",
       "     Precipitationmm  CloudCover             Events  WindDirDegrees  \n",
       "154             2.03         4.0  Rain-Thunderstorm             230  \n",
       "\n",
       "[1 rows x 23 columns]"
      ]
     },
     "execution_count": 29,
     "metadata": {},
     "output_type": "execute_result"
    }
   ],
   "source": [
    "from datetime import datetime\n",
    "\n",
    "london[london['GMT'] == datetime(2014, 6, 4)] "
   ]
  },
  {
   "cell_type": "markdown",
   "metadata": {},
   "source": [
    "Queries such as 'Return all the rows where the date is between 8 December and 12 December' can be made:"
   ]
  },
  {
   "cell_type": "code",
   "execution_count": 30,
   "metadata": {},
   "outputs": [
    {
     "data": {
      "text/html": [
       "<div>\n",
       "<style scoped>\n",
       "    .dataframe tbody tr th:only-of-type {\n",
       "        vertical-align: middle;\n",
       "    }\n",
       "\n",
       "    .dataframe tbody tr th {\n",
       "        vertical-align: top;\n",
       "    }\n",
       "\n",
       "    .dataframe thead th {\n",
       "        text-align: right;\n",
       "    }\n",
       "</style>\n",
       "<table border=\"1\" class=\"dataframe\">\n",
       "  <thead>\n",
       "    <tr style=\"text-align: right;\">\n",
       "      <th></th>\n",
       "      <th>GMT</th>\n",
       "      <th>Max TemperatureC</th>\n",
       "      <th>Mean TemperatureC</th>\n",
       "      <th>Min TemperatureC</th>\n",
       "      <th>Dew PointC</th>\n",
       "      <th>MeanDew PointC</th>\n",
       "      <th>Min DewpointC</th>\n",
       "      <th>Max Humidity</th>\n",
       "      <th>Mean Humidity</th>\n",
       "      <th>Min Humidity</th>\n",
       "      <th>...</th>\n",
       "      <th>Max VisibilityKm</th>\n",
       "      <th>Mean VisibilityKm</th>\n",
       "      <th>Min VisibilitykM</th>\n",
       "      <th>Max Wind SpeedKm/h</th>\n",
       "      <th>Mean Wind SpeedKm/h</th>\n",
       "      <th>Max Gust SpeedKm/h</th>\n",
       "      <th>Precipitationmm</th>\n",
       "      <th>CloudCover</th>\n",
       "      <th>Events</th>\n",
       "      <th>WindDirDegrees</th>\n",
       "    </tr>\n",
       "  </thead>\n",
       "  <tbody>\n",
       "    <tr>\n",
       "      <th>341</th>\n",
       "      <td>2014-12-08</td>\n",
       "      <td>7</td>\n",
       "      <td>4</td>\n",
       "      <td>1</td>\n",
       "      <td>2</td>\n",
       "      <td>1</td>\n",
       "      <td>-1</td>\n",
       "      <td>93</td>\n",
       "      <td>76</td>\n",
       "      <td>51</td>\n",
       "      <td>...</td>\n",
       "      <td>31</td>\n",
       "      <td>17</td>\n",
       "      <td>10</td>\n",
       "      <td>23</td>\n",
       "      <td>13</td>\n",
       "      <td>NaN</td>\n",
       "      <td>0.00</td>\n",
       "      <td>2.0</td>\n",
       "      <td>Rain</td>\n",
       "      <td>270</td>\n",
       "    </tr>\n",
       "    <tr>\n",
       "      <th>342</th>\n",
       "      <td>2014-12-09</td>\n",
       "      <td>12</td>\n",
       "      <td>6</td>\n",
       "      <td>-1</td>\n",
       "      <td>11</td>\n",
       "      <td>3</td>\n",
       "      <td>-1</td>\n",
       "      <td>100</td>\n",
       "      <td>86</td>\n",
       "      <td>64</td>\n",
       "      <td>...</td>\n",
       "      <td>31</td>\n",
       "      <td>15</td>\n",
       "      <td>3</td>\n",
       "      <td>37</td>\n",
       "      <td>14</td>\n",
       "      <td>52.0</td>\n",
       "      <td>0.25</td>\n",
       "      <td>5.0</td>\n",
       "      <td>Rain</td>\n",
       "      <td>224</td>\n",
       "    </tr>\n",
       "    <tr>\n",
       "      <th>343</th>\n",
       "      <td>2014-12-10</td>\n",
       "      <td>9</td>\n",
       "      <td>7</td>\n",
       "      <td>6</td>\n",
       "      <td>11</td>\n",
       "      <td>3</td>\n",
       "      <td>1</td>\n",
       "      <td>90</td>\n",
       "      <td>70</td>\n",
       "      <td>44</td>\n",
       "      <td>...</td>\n",
       "      <td>31</td>\n",
       "      <td>18</td>\n",
       "      <td>3</td>\n",
       "      <td>40</td>\n",
       "      <td>27</td>\n",
       "      <td>NaN</td>\n",
       "      <td>0.00</td>\n",
       "      <td>2.0</td>\n",
       "      <td>Rain</td>\n",
       "      <td>246</td>\n",
       "    </tr>\n",
       "    <tr>\n",
       "      <th>344</th>\n",
       "      <td>2014-12-11</td>\n",
       "      <td>10</td>\n",
       "      <td>8</td>\n",
       "      <td>5</td>\n",
       "      <td>6</td>\n",
       "      <td>3</td>\n",
       "      <td>2</td>\n",
       "      <td>82</td>\n",
       "      <td>72</td>\n",
       "      <td>51</td>\n",
       "      <td>...</td>\n",
       "      <td>31</td>\n",
       "      <td>15</td>\n",
       "      <td>10</td>\n",
       "      <td>40</td>\n",
       "      <td>31</td>\n",
       "      <td>NaN</td>\n",
       "      <td>0.25</td>\n",
       "      <td>2.0</td>\n",
       "      <td>Rain</td>\n",
       "      <td>246</td>\n",
       "    </tr>\n",
       "    <tr>\n",
       "      <th>345</th>\n",
       "      <td>2014-12-12</td>\n",
       "      <td>9</td>\n",
       "      <td>6</td>\n",
       "      <td>2</td>\n",
       "      <td>9</td>\n",
       "      <td>4</td>\n",
       "      <td>-1</td>\n",
       "      <td>94</td>\n",
       "      <td>79</td>\n",
       "      <td>59</td>\n",
       "      <td>...</td>\n",
       "      <td>31</td>\n",
       "      <td>11</td>\n",
       "      <td>3</td>\n",
       "      <td>40</td>\n",
       "      <td>26</td>\n",
       "      <td>55.0</td>\n",
       "      <td>1.02</td>\n",
       "      <td>3.0</td>\n",
       "      <td>Rain</td>\n",
       "      <td>253</td>\n",
       "    </tr>\n",
       "  </tbody>\n",
       "</table>\n",
       "<p>5 rows × 23 columns</p>\n",
       "</div>"
      ],
      "text/plain": [
       "           GMT  Max TemperatureC  Mean TemperatureC  Min TemperatureC  \\\n",
       "341 2014-12-08                 7                  4                 1   \n",
       "342 2014-12-09                12                  6                -1   \n",
       "343 2014-12-10                 9                  7                 6   \n",
       "344 2014-12-11                10                  8                 5   \n",
       "345 2014-12-12                 9                  6                 2   \n",
       "\n",
       "     Dew PointC  MeanDew PointC  Min DewpointC  Max Humidity  Mean Humidity  \\\n",
       "341           2               1             -1            93             76   \n",
       "342          11               3             -1           100             86   \n",
       "343          11               3              1            90             70   \n",
       "344           6               3              2            82             72   \n",
       "345           9               4             -1            94             79   \n",
       "\n",
       "     Min Humidity  ...  Max VisibilityKm  Mean VisibilityKm  Min VisibilitykM  \\\n",
       "341            51  ...                31                 17                10   \n",
       "342            64  ...                31                 15                 3   \n",
       "343            44  ...                31                 18                 3   \n",
       "344            51  ...                31                 15                10   \n",
       "345            59  ...                31                 11                 3   \n",
       "\n",
       "     Max Wind SpeedKm/h  Mean Wind SpeedKm/h  Max Gust SpeedKm/h  \\\n",
       "341                  23                   13                 NaN   \n",
       "342                  37                   14                52.0   \n",
       "343                  40                   27                 NaN   \n",
       "344                  40                   31                 NaN   \n",
       "345                  40                   26                55.0   \n",
       "\n",
       "     Precipitationmm  CloudCover  Events  WindDirDegrees  \n",
       "341             0.00         2.0    Rain             270  \n",
       "342             0.25         5.0    Rain             224  \n",
       "343             0.00         2.0    Rain             246  \n",
       "344             0.25         2.0    Rain             246  \n",
       "345             1.02         3.0    Rain             253  \n",
       "\n",
       "[5 rows x 23 columns]"
      ]
     },
     "execution_count": 30,
     "metadata": {},
     "output_type": "execute_result"
    }
   ],
   "source": [
    "dates = london['GMT']\n",
    "start = datetime(2014, 12, 8)\n",
    "end = datetime(2014, 12, 12)\n",
    "london[(dates >= start) & (dates <= end)]"
   ]
  },
  {
   "cell_type": "markdown",
   "metadata": {},
   "source": [
    "### Tasks\n",
    "\n",
    "Now that the wind direction is given by a number, write code to select all days that had a northerly wind. Hint: select the rows where the direction is greater than or equal to 350 **or** smaller than or equal to 10, as the compass rose shows."
   ]
  },
  {
   "cell_type": "code",
   "execution_count": null,
   "metadata": {
    "collapsed": true
   },
   "outputs": [],
   "source": []
  },
  {
   "cell_type": "markdown",
   "metadata": {},
   "source": [
    "In the code cell below, write code to get and display all the rows in the dataframe that are beween 1 April 2014 and \n",
    "11 April 2014."
   ]
  },
  {
   "cell_type": "code",
   "execution_count": null,
   "metadata": {
    "collapsed": true
   },
   "outputs": [],
   "source": []
  },
  {
   "cell_type": "markdown",
   "metadata": {},
   "source": [
    "In the cell below, write two lines of code to display the first five rows that have a missing value in the `'Max Gust SpeedKm/h'` column. Hint: first select the missing value rows and store them in a new dataframe, then display the first five rows of the new dataframe."
   ]
  },
  {
   "cell_type": "code",
   "execution_count": null,
   "metadata": {
    "collapsed": true
   },
   "outputs": [],
   "source": []
  },
  {
   "cell_type": "markdown",
   "metadata": {},
   "source": [
    "**Now go back to the course.**"
   ]
  },
  {
   "cell_type": "markdown",
   "metadata": {},
   "source": [
    "## Exercise 5: Every picture tells a story\n",
    "\n",
    "The following line of code tells Jupyter to display inside this notebook any graph that is created."
   ]
  },
  {
   "cell_type": "code",
   "execution_count": 31,
   "metadata": {
    "collapsed": true
   },
   "outputs": [],
   "source": [
    "%matplotlib inline"
   ]
  },
  {
   "cell_type": "markdown",
   "metadata": {},
   "source": [
    "The `plot()` method can make a graph of the values in a column. Gridlines are turned on by the `grid` argument."
   ]
  },
  {
   "cell_type": "code",
   "execution_count": 32,
   "metadata": {
    "scrolled": true
   },
   "outputs": [
    {
     "data": {
      "text/plain": [
       "<AxesSubplot:>"
      ]
     },
     "execution_count": 32,
     "metadata": {},
     "output_type": "execute_result"
    },
    {
     "data": {
      "image/png": "[encoded data removed]",
      "text/plain": [
       "<Figure size 640x480 with 1 Axes>"
      ]
     },
     "metadata": {
      "filenames": {
       "image/png": "C:\\Users\\vdegu\\Bureau\\gittest\\nb-museum\\_build\\jupyter_execute\\Docs\\Training\\OU-training\\Learn-to-code-for-data-analysis-master\\2_Cleaning_up_our_act\\Exercises_2_82_1.png"
      }
     },
     "output_type": "display_data"
    }
   ],
   "source": [
    "london['Max Wind SpeedKm/h'].plot(grid=True)"
   ]
  },
  {
   "cell_type": "markdown",
   "metadata": {},
   "source": [
    "The graph can be made bigger by giving the method a `figsize=(x,y)` argument where `x` and `y` are integers that determine the length of the x-axis and y-axis."
   ]
  },
  {
   "cell_type": "code",
   "execution_count": 33,
   "metadata": {},
   "outputs": [
    {
     "data": {
      "text/plain": [
       "<AxesSubplot:>"
      ]
     },
     "execution_count": 33,
     "metadata": {},
     "output_type": "execute_result"
    },
    {
     "data": {
      "image/png": "[encoded data removed]",
      "text/plain": [
       "<Figure size 1000x500 with 1 Axes>"
      ]
     },
     "metadata": {
      "filenames": {
       "image/png": "C:\\Users\\vdegu\\Bureau\\gittest\\nb-museum\\_build\\jupyter_execute\\Docs\\Training\\OU-training\\Learn-to-code-for-data-analysis-master\\2_Cleaning_up_our_act\\Exercises_2_84_1.png"
      }
     },
     "output_type": "display_data"
    }
   ],
   "source": [
    "london['Max Wind SpeedKm/h'].plot(grid=True, figsize=(10,5))"
   ]
  },
  {
   "cell_type": "markdown",
   "metadata": {},
   "source": [
    "Multiple lines can be plotted by selecting multiple columns."
   ]
  },
  {
   "cell_type": "code",
   "execution_count": 34,
   "metadata": {},
   "outputs": [
    {
     "data": {
      "text/plain": [
       "<AxesSubplot:>"
      ]
     },
     "execution_count": 34,
     "metadata": {},
     "output_type": "execute_result"
    },
    {
     "data": {
      "image/png": "[encoded data removed]",
      "text/plain": [
       "<Figure size 1000x500 with 1 Axes>"
      ]
     },
     "metadata": {
      "filenames": {
       "image/png": "C:\\Users\\vdegu\\Bureau\\gittest\\nb-museum\\_build\\jupyter_execute\\Docs\\Training\\OU-training\\Learn-to-code-for-data-analysis-master\\2_Cleaning_up_our_act\\Exercises_2_86_1.png"
      }
     },
     "output_type": "display_data"
    }
   ],
   "source": [
    "london[['Max Wind SpeedKm/h', 'Mean Wind SpeedKm/h']].plot(grid=True, figsize=(10,5))"
   ]
  },
  {
   "cell_type": "markdown",
   "metadata": {},
   "source": [
    "### Task\n",
    "\n",
    "In the cell below, write code to plot the minimum, mean, and maximum temperature during 2014 in London."
   ]
  },
  {
   "cell_type": "code",
   "execution_count": null,
   "metadata": {
    "collapsed": true
   },
   "outputs": [],
   "source": []
  },
  {
   "cell_type": "markdown",
   "metadata": {},
   "source": [
    "**Now go back to the course.**"
   ]
  },
  {
   "cell_type": "markdown",
   "metadata": {},
   "source": [
    "## Exercise 6: Changing a dataframe's index\n",
    "Changing the dataframe's index from the default to `datetime64` values is done by assigning to the dataframe's `index` attribute the contents of the `'GMT`' column, like this:"
   ]
  },
  {
   "cell_type": "code",
   "execution_count": 35,
   "metadata": {},
   "outputs": [
    {
     "data": {
      "text/html": [
       "<div>\n",
       "<style scoped>\n",
       "    .dataframe tbody tr th:only-of-type {\n",
       "        vertical-align: middle;\n",
       "    }\n",
       "\n",
       "    .dataframe tbody tr th {\n",
       "        vertical-align: top;\n",
       "    }\n",
       "\n",
       "    .dataframe thead th {\n",
       "        text-align: right;\n",
       "    }\n",
       "</style>\n",
       "<table border=\"1\" class=\"dataframe\">\n",
       "  <thead>\n",
       "    <tr style=\"text-align: right;\">\n",
       "      <th></th>\n",
       "      <th>GMT</th>\n",
       "      <th>Max TemperatureC</th>\n",
       "      <th>Mean TemperatureC</th>\n",
       "      <th>Min TemperatureC</th>\n",
       "      <th>Dew PointC</th>\n",
       "      <th>MeanDew PointC</th>\n",
       "      <th>Min DewpointC</th>\n",
       "      <th>Max Humidity</th>\n",
       "      <th>Mean Humidity</th>\n",
       "      <th>Min Humidity</th>\n",
       "      <th>...</th>\n",
       "      <th>Max VisibilityKm</th>\n",
       "      <th>Mean VisibilityKm</th>\n",
       "      <th>Min VisibilitykM</th>\n",
       "      <th>Max Wind SpeedKm/h</th>\n",
       "      <th>Mean Wind SpeedKm/h</th>\n",
       "      <th>Max Gust SpeedKm/h</th>\n",
       "      <th>Precipitationmm</th>\n",
       "      <th>CloudCover</th>\n",
       "      <th>Events</th>\n",
       "      <th>WindDirDegrees</th>\n",
       "    </tr>\n",
       "    <tr>\n",
       "      <th>GMT</th>\n",
       "      <th></th>\n",
       "      <th></th>\n",
       "      <th></th>\n",
       "      <th></th>\n",
       "      <th></th>\n",
       "      <th></th>\n",
       "      <th></th>\n",
       "      <th></th>\n",
       "      <th></th>\n",
       "      <th></th>\n",
       "      <th></th>\n",
       "      <th></th>\n",
       "      <th></th>\n",
       "      <th></th>\n",
       "      <th></th>\n",
       "      <th></th>\n",
       "      <th></th>\n",
       "      <th></th>\n",
       "      <th></th>\n",
       "      <th></th>\n",
       "      <th></th>\n",
       "    </tr>\n",
       "  </thead>\n",
       "  <tbody>\n",
       "    <tr>\n",
       "      <th>2014-01-01</th>\n",
       "      <td>2014-01-01</td>\n",
       "      <td>11</td>\n",
       "      <td>8</td>\n",
       "      <td>6</td>\n",
       "      <td>9</td>\n",
       "      <td>7</td>\n",
       "      <td>4</td>\n",
       "      <td>94</td>\n",
       "      <td>86</td>\n",
       "      <td>73</td>\n",
       "      <td>...</td>\n",
       "      <td>31</td>\n",
       "      <td>11</td>\n",
       "      <td>2</td>\n",
       "      <td>40</td>\n",
       "      <td>26</td>\n",
       "      <td>66.0</td>\n",
       "      <td>9.91</td>\n",
       "      <td>4.0</td>\n",
       "      <td>Rain</td>\n",
       "      <td>186</td>\n",
       "    </tr>\n",
       "    <tr>\n",
       "      <th>2014-01-02</th>\n",
       "      <td>2014-01-02</td>\n",
       "      <td>11</td>\n",
       "      <td>9</td>\n",
       "      <td>6</td>\n",
       "      <td>9</td>\n",
       "      <td>6</td>\n",
       "      <td>4</td>\n",
       "      <td>94</td>\n",
       "      <td>81</td>\n",
       "      <td>60</td>\n",
       "      <td>...</td>\n",
       "      <td>31</td>\n",
       "      <td>15</td>\n",
       "      <td>5</td>\n",
       "      <td>32</td>\n",
       "      <td>21</td>\n",
       "      <td>50.0</td>\n",
       "      <td>1.02</td>\n",
       "      <td>2.0</td>\n",
       "      <td>Rain</td>\n",
       "      <td>214</td>\n",
       "    </tr>\n",
       "  </tbody>\n",
       "</table>\n",
       "<p>2 rows × 23 columns</p>\n",
       "</div>"
      ],
      "text/plain": [
       "                  GMT  Max TemperatureC  Mean TemperatureC  Min TemperatureC  \\\n",
       "GMT                                                                            \n",
       "2014-01-01 2014-01-01                11                  8                 6   \n",
       "2014-01-02 2014-01-02                11                  9                 6   \n",
       "\n",
       "            Dew PointC  MeanDew PointC  Min DewpointC  Max Humidity  \\\n",
       "GMT                                                                   \n",
       "2014-01-01           9               7              4            94   \n",
       "2014-01-02           9               6              4            94   \n",
       "\n",
       "            Mean Humidity  Min Humidity  ...  Max VisibilityKm  \\\n",
       "GMT                                      ...                     \n",
       "2014-01-01             86            73  ...                31   \n",
       "2014-01-02             81            60  ...                31   \n",
       "\n",
       "            Mean VisibilityKm  Min VisibilitykM  Max Wind SpeedKm/h  \\\n",
       "GMT                                                                   \n",
       "2014-01-01                 11                 2                  40   \n",
       "2014-01-02                 15                 5                  32   \n",
       "\n",
       "            Mean Wind SpeedKm/h  Max Gust SpeedKm/h  Precipitationmm  \\\n",
       "GMT                                                                    \n",
       "2014-01-01                   26                66.0             9.91   \n",
       "2014-01-02                   21                50.0             1.02   \n",
       "\n",
       "            CloudCover  Events  WindDirDegrees  \n",
       "GMT                                             \n",
       "2014-01-01         4.0    Rain             186  \n",
       "2014-01-02         2.0    Rain             214  \n",
       "\n",
       "[2 rows x 23 columns]"
      ]
     },
     "execution_count": 35,
     "metadata": {},
     "output_type": "execute_result"
    }
   ],
   "source": [
    "london.index = london['GMT']\n",
    "london.head(2)"
   ]
  },
  {
   "cell_type": "markdown",
   "metadata": {},
   "source": [
    "The `iloc` attribute can still be used to get and display rows by number, but now you can now also use the `datetime64` index to get a row by date, using the dataframe's `loc` attribute, like this:"
   ]
  },
  {
   "cell_type": "code",
   "execution_count": 36,
   "metadata": {},
   "outputs": [
    {
     "data": {
      "text/plain": [
       "GMT                           2014-01-01 00:00:00\n",
       "Max TemperatureC                               11\n",
       "Mean TemperatureC                               8\n",
       "Min TemperatureC                                6\n",
       "Dew PointC                                      9\n",
       "MeanDew PointC                                  7\n",
       "Min DewpointC                                   4\n",
       "Max Humidity                                   94\n",
       "Mean Humidity                                  86\n",
       "Min Humidity                                   73\n",
       "Max Sea Level PressurehPa                    1002\n",
       "Mean Sea Level PressurehPa                    993\n",
       "Min Sea Level PressurehPa                     984\n",
       "Max VisibilityKm                               31\n",
       "Mean VisibilityKm                              11\n",
       "Min VisibilitykM                                2\n",
       "Max Wind SpeedKm/h                             40\n",
       "Mean Wind SpeedKm/h                            26\n",
       "Max Gust SpeedKm/h                           66.0\n",
       "Precipitationmm                              9.91\n",
       "CloudCover                                    4.0\n",
       "Events                                       Rain\n",
       "WindDirDegrees                                186\n",
       "Name: 2014-01-01 00:00:00, dtype: object"
      ]
     },
     "execution_count": 36,
     "metadata": {},
     "output_type": "execute_result"
    }
   ],
   "source": [
    "london.loc[datetime(2014, 1, 1)]"
   ]
  },
  {
   "cell_type": "markdown",
   "metadata": {},
   "source": [
    "A query such as *'Return all the rows where the date is between December 8th and December 12th'* can now be done  succinctly like this:"
   ]
  },
  {
   "cell_type": "code",
   "execution_count": 37,
   "metadata": {},
   "outputs": [
    {
     "data": {
      "text/html": [
       "<div>\n",
       "<style scoped>\n",
       "    .dataframe tbody tr th:only-of-type {\n",
       "        vertical-align: middle;\n",
       "    }\n",
       "\n",
       "    .dataframe tbody tr th {\n",
       "        vertical-align: top;\n",
       "    }\n",
       "\n",
       "    .dataframe thead th {\n",
       "        text-align: right;\n",
       "    }\n",
       "</style>\n",
       "<table border=\"1\" class=\"dataframe\">\n",
       "  <thead>\n",
       "    <tr style=\"text-align: right;\">\n",
       "      <th></th>\n",
       "      <th>GMT</th>\n",
       "      <th>Max TemperatureC</th>\n",
       "      <th>Mean TemperatureC</th>\n",
       "      <th>Min TemperatureC</th>\n",
       "      <th>Dew PointC</th>\n",
       "      <th>MeanDew PointC</th>\n",
       "      <th>Min DewpointC</th>\n",
       "      <th>Max Humidity</th>\n",
       "      <th>Mean Humidity</th>\n",
       "      <th>Min Humidity</th>\n",
       "      <th>...</th>\n",
       "      <th>Max VisibilityKm</th>\n",
       "      <th>Mean VisibilityKm</th>\n",
       "      <th>Min VisibilitykM</th>\n",
       "      <th>Max Wind SpeedKm/h</th>\n",
       "      <th>Mean Wind SpeedKm/h</th>\n",
       "      <th>Max Gust SpeedKm/h</th>\n",
       "      <th>Precipitationmm</th>\n",
       "      <th>CloudCover</th>\n",
       "      <th>Events</th>\n",
       "      <th>WindDirDegrees</th>\n",
       "    </tr>\n",
       "    <tr>\n",
       "      <th>GMT</th>\n",
       "      <th></th>\n",
       "      <th></th>\n",
       "      <th></th>\n",
       "      <th></th>\n",
       "      <th></th>\n",
       "      <th></th>\n",
       "      <th></th>\n",
       "      <th></th>\n",
       "      <th></th>\n",
       "      <th></th>\n",
       "      <th></th>\n",
       "      <th></th>\n",
       "      <th></th>\n",
       "      <th></th>\n",
       "      <th></th>\n",
       "      <th></th>\n",
       "      <th></th>\n",
       "      <th></th>\n",
       "      <th></th>\n",
       "      <th></th>\n",
       "      <th></th>\n",
       "    </tr>\n",
       "  </thead>\n",
       "  <tbody>\n",
       "    <tr>\n",
       "      <th>2014-12-08</th>\n",
       "      <td>2014-12-08</td>\n",
       "      <td>7</td>\n",
       "      <td>4</td>\n",
       "      <td>1</td>\n",
       "      <td>2</td>\n",
       "      <td>1</td>\n",
       "      <td>-1</td>\n",
       "      <td>93</td>\n",
       "      <td>76</td>\n",
       "      <td>51</td>\n",
       "      <td>...</td>\n",
       "      <td>31</td>\n",
       "      <td>17</td>\n",
       "      <td>10</td>\n",
       "      <td>23</td>\n",
       "      <td>13</td>\n",
       "      <td>NaN</td>\n",
       "      <td>0.00</td>\n",
       "      <td>2.0</td>\n",
       "      <td>Rain</td>\n",
       "      <td>270</td>\n",
       "    </tr>\n",
       "    <tr>\n",
       "      <th>2014-12-09</th>\n",
       "      <td>2014-12-09</td>\n",
       "      <td>12</td>\n",
       "      <td>6</td>\n",
       "      <td>-1</td>\n",
       "      <td>11</td>\n",
       "      <td>3</td>\n",
       "      <td>-1</td>\n",
       "      <td>100</td>\n",
       "      <td>86</td>\n",
       "      <td>64</td>\n",
       "      <td>...</td>\n",
       "      <td>31</td>\n",
       "      <td>15</td>\n",
       "      <td>3</td>\n",
       "      <td>37</td>\n",
       "      <td>14</td>\n",
       "      <td>52.0</td>\n",
       "      <td>0.25</td>\n",
       "      <td>5.0</td>\n",
       "      <td>Rain</td>\n",
       "      <td>224</td>\n",
       "    </tr>\n",
       "    <tr>\n",
       "      <th>2014-12-10</th>\n",
       "      <td>2014-12-10</td>\n",
       "      <td>9</td>\n",
       "      <td>7</td>\n",
       "      <td>6</td>\n",
       "      <td>11</td>\n",
       "      <td>3</td>\n",
       "      <td>1</td>\n",
       "      <td>90</td>\n",
       "      <td>70</td>\n",
       "      <td>44</td>\n",
       "      <td>...</td>\n",
       "      <td>31</td>\n",
       "      <td>18</td>\n",
       "      <td>3</td>\n",
       "      <td>40</td>\n",
       "      <td>27</td>\n",
       "      <td>NaN</td>\n",
       "      <td>0.00</td>\n",
       "      <td>2.0</td>\n",
       "      <td>Rain</td>\n",
       "      <td>246</td>\n",
       "    </tr>\n",
       "    <tr>\n",
       "      <th>2014-12-11</th>\n",
       "      <td>2014-12-11</td>\n",
       "      <td>10</td>\n",
       "      <td>8</td>\n",
       "      <td>5</td>\n",
       "      <td>6</td>\n",
       "      <td>3</td>\n",
       "      <td>2</td>\n",
       "      <td>82</td>\n",
       "      <td>72</td>\n",
       "      <td>51</td>\n",
       "      <td>...</td>\n",
       "      <td>31</td>\n",
       "      <td>15</td>\n",
       "      <td>10</td>\n",
       "      <td>40</td>\n",
       "      <td>31</td>\n",
       "      <td>NaN</td>\n",
       "      <td>0.25</td>\n",
       "      <td>2.0</td>\n",
       "      <td>Rain</td>\n",
       "      <td>246</td>\n",
       "    </tr>\n",
       "    <tr>\n",
       "      <th>2014-12-12</th>\n",
       "      <td>2014-12-12</td>\n",
       "      <td>9</td>\n",
       "      <td>6</td>\n",
       "      <td>2</td>\n",
       "      <td>9</td>\n",
       "      <td>4</td>\n",
       "      <td>-1</td>\n",
       "      <td>94</td>\n",
       "      <td>79</td>\n",
       "      <td>59</td>\n",
       "      <td>...</td>\n",
       "      <td>31</td>\n",
       "      <td>11</td>\n",
       "      <td>3</td>\n",
       "      <td>40</td>\n",
       "      <td>26</td>\n",
       "      <td>55.0</td>\n",
       "      <td>1.02</td>\n",
       "      <td>3.0</td>\n",
       "      <td>Rain</td>\n",
       "      <td>253</td>\n",
       "    </tr>\n",
       "  </tbody>\n",
       "</table>\n",
       "<p>5 rows × 23 columns</p>\n",
       "</div>"
      ],
      "text/plain": [
       "                  GMT  Max TemperatureC  Mean TemperatureC  Min TemperatureC  \\\n",
       "GMT                                                                            \n",
       "2014-12-08 2014-12-08                 7                  4                 1   \n",
       "2014-12-09 2014-12-09                12                  6                -1   \n",
       "2014-12-10 2014-12-10                 9                  7                 6   \n",
       "2014-12-11 2014-12-11                10                  8                 5   \n",
       "2014-12-12 2014-12-12                 9                  6                 2   \n",
       "\n",
       "            Dew PointC  MeanDew PointC  Min DewpointC  Max Humidity  \\\n",
       "GMT                                                                   \n",
       "2014-12-08           2               1             -1            93   \n",
       "2014-12-09          11               3             -1           100   \n",
       "2014-12-10          11               3              1            90   \n",
       "2014-12-11           6               3              2            82   \n",
       "2014-12-12           9               4             -1            94   \n",
       "\n",
       "            Mean Humidity  Min Humidity  ...  Max VisibilityKm  \\\n",
       "GMT                                      ...                     \n",
       "2014-12-08             76            51  ...                31   \n",
       "2014-12-09             86            64  ...                31   \n",
       "2014-12-10             70            44  ...                31   \n",
       "2014-12-11             72            51  ...                31   \n",
       "2014-12-12             79            59  ...                31   \n",
       "\n",
       "            Mean VisibilityKm  Min VisibilitykM  Max Wind SpeedKm/h  \\\n",
       "GMT                                                                   \n",
       "2014-12-08                 17                10                  23   \n",
       "2014-12-09                 15                 3                  37   \n",
       "2014-12-10                 18                 3                  40   \n",
       "2014-12-11                 15                10                  40   \n",
       "2014-12-12                 11                 3                  40   \n",
       "\n",
       "            Mean Wind SpeedKm/h  Max Gust SpeedKm/h  Precipitationmm  \\\n",
       "GMT                                                                    \n",
       "2014-12-08                   13                 NaN             0.00   \n",
       "2014-12-09                   14                52.0             0.25   \n",
       "2014-12-10                   27                 NaN             0.00   \n",
       "2014-12-11                   31                 NaN             0.25   \n",
       "2014-12-12                   26                55.0             1.02   \n",
       "\n",
       "            CloudCover  Events  WindDirDegrees  \n",
       "GMT                                             \n",
       "2014-12-08         2.0    Rain             270  \n",
       "2014-12-09         5.0    Rain             224  \n",
       "2014-12-10         2.0    Rain             246  \n",
       "2014-12-11         2.0    Rain             246  \n",
       "2014-12-12         3.0    Rain             253  \n",
       "\n",
       "[5 rows x 23 columns]"
      ]
     },
     "execution_count": 37,
     "metadata": {},
     "output_type": "execute_result"
    }
   ],
   "source": [
    "london.loc[datetime(2014,12,8) : datetime(2014,12,12)]\n",
    "\n",
    "#The meaning of the above code is get the rows beween and including \n",
    "#the indices datetime(2014,12,8) and datetime(2014,12,12)"
   ]
  },
  {
   "cell_type": "markdown",
   "metadata": {},
   "source": [
    "Now we have a `datetime64` index, let's plot `'Max Wind SpeedKm/h'` again:"
   ]
  },
  {
   "cell_type": "code",
   "execution_count": 38,
   "metadata": {
    "scrolled": true
   },
   "outputs": [
    {
     "data": {
      "text/plain": [
       "<AxesSubplot:xlabel='GMT'>"
      ]
     },
     "execution_count": 38,
     "metadata": {},
     "output_type": "execute_result"
    },
    {
     "data": {
      "image/png": "[encoded data removed]",
      "text/plain": [
       "<Figure size 1000x500 with 1 Axes>"
      ]
     },
     "metadata": {
      "filenames": {
       "image/png": "C:\\Users\\vdegu\\Bureau\\gittest\\nb-museum\\_build\\jupyter_execute\\Docs\\Training\\OU-training\\Learn-to-code-for-data-analysis-master\\2_Cleaning_up_our_act\\Exercises_2_97_1.png"
      }
     },
     "output_type": "display_data"
    }
   ],
   "source": [
    "london['Max Wind SpeedKm/h'].plot(grid=True, figsize=(10,5))"
   ]
  },
  {
   "cell_type": "markdown",
   "metadata": {},
   "source": [
    "Now it is much clearer that the worst winds were in mid February.\n",
    "\n",
    "### Task\n",
    "Use the code cell below to plot the values of `'Mean Humidity'` during spring (full months of March, April and May)."
   ]
  },
  {
   "cell_type": "code",
   "execution_count": null,
   "metadata": {
    "collapsed": true
   },
   "outputs": [],
   "source": []
  },
  {
   "cell_type": "markdown",
   "metadata": {},
   "source": [
    "**Now go back to the course.**"
   ]
  }
 ],
 "metadata": {
  "kernelspec": {
   "display_name": "Python 3",
   "language": "python",
   "name": "python3"
  },
  "language_info": {
   "codemirror_mode": {
    "name": "ipython",
    "version": 3
   },
   "file_extension": ".py",
   "mimetype": "text/x-python",
   "name": "python",
   "nbconvert_exporter": "python",
   "pygments_lexer": "ipython3",
   "version": "3.9.13"
  }
 },
 "nbformat": 4,
 "nbformat_minor": 1
}